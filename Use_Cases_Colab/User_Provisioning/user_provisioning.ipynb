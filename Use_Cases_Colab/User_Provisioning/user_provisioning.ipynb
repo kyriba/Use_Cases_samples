{
  "cells": [
    {
      "cell_type": "markdown",
      "id": "TMiZRuJ92bu6",
      "metadata": {
        "id": "TMiZRuJ92bu6"
      },
      "source": [
        "# <font color=#0066ff> User Provisioning </font>\n"
      ]
    },
    {
      "cell_type": "markdown",
      "id": "TlNSHZlPUnLh",
      "metadata": {
        "id": "TlNSHZlPUnLh"
      },
      "source": [
        "![images.png](data:image/png;base64,iVBORw0KGgoAAAANSUhEUgAAASwAAAEsCAYAAAB5fY51AAAABGdBTUEAALGPC/xhBQAAACBjSFJNAAB6JgAAgIQAAPoAAACA6AAAdTAAAOpgAAA6mAAAF3CculE8AAAABmJLR0QA/wD/AP+gvaeTAAAACXBIWXMAAAsSAAALEgHS3X78AAAAB3RJTUUH5gEMAwkQtUzRQwAALz9JREFUeNrtnXmYXVWVt9/cpCpDZSKQBAhDTAISCODMFFAEIoOICEhUtHGeWlppbbsd2uFrhxZn23ZsRVpaVCZBBQIiaBhEJgEhhkEgZJ6TylBJDd8fv12w66YquVW1zj373LPe57lPGM89e9+zf2fttdZeCxzHcRzHcRzHcRzHcRzHcRzHcRzHcRzHcRzHcRzHcRzHcRzHcRzHcRzHcRzHcRzHcRzHcRzHcRzHcRzHcRzHaRyG5H0Dji2V2fNAv+tQoBkYCYwKfzaHv24GmsJfd7Md2Ax0ApuAreGzJfzzNqAd6OqcPyfvYTolxQWrgARRAonSaGAisBewP7APMAXYM/zzseG/aQFGAMPQ714J/383XUiQCH+2IaFqBTYCq4FlwBLg6fBZAqwANiDBo4hiFuZzKBLw0cC48NeV6D9rC3OxIczLVly8644LVgGIBGoUsDfwfGBW+ByAxGoCsqKGDuAr+ksnWsDrgOXA48AjwF+ABcAitLCTW9DRXDYjYT8YOByYCTwP2AOJ1kh6ro9uC3QDsBR4AngYeBB4FAl3e2rjbTRcsBKkyoLaCzgMOAZ4GRKrScDwvO+zF9qRJfYEcA9wW/jzaSRwuVlgYU6HAdOAVwBzgBej+R3MXLYCzwD3Ar8D5gN/B7a7eNnjgpUQ0dZkH2A2cBJwJLAfeuMXje1oG3kPWsy/Bx4D2uq1mMOcjkKCfy6a0ylkY4l2AIuRaF0J3AqsgmJulVPEBStnImtqHHAUcCZwPNqeDMv7/gzpROJ1G/Ar4Obw9+bbxmhORyBr6p1IqMbUcbxbgfuB/0PitRhcuAaLC1ZORItqCvBqYC7wUuQcb3S2I5/XFcAvgYVAh8VijqKkLwQ+BJxBfYWqmg7gIeDHwGXI5+fCNUBcsOpMlVDNBd6CHL+NZE3VShdy0F8O/AiJWOdAFnM0r2OAdwAfRFvpVOgA7ga+DlyDHPguXP3EBauOhEU1DjgLeD+KTtUjqlcEnkRWyP8wgO1TmNs9gC+il0BT3gPqg81oS/xF4IH+jrPsuGDVgbCYKsiB/q/Aq1BY3elJJ4q2fQm4Fthay2IO8zsS+ArwbnrmT6XK42GcP8WtrZpxwcqYyKp6N/BPKI/K2TmtwCXIClkEfS/maCv4D8B3KFY0dQtyyv8/4KmdjdMRLlgZES2k6cB/oG1gqtuUFOkC7gA+itIEel3M0Vbw18ARed/0ALkN+DBwZ1/jdEQRTOfCEYnVkcClyLnuYtU/hgBHoy3TXGBoNK9Aj3k+AiXXFpVjwjjPBCrV43SewwXLmOhhOx64mOK+9VNhf+DbKJdqWB+L+UiKtRXsjenAd4Hz6UWcHeGCZUiVWH0PHaNxBs8E4AvA29lxMQ9BSbaNwCTgy8D7gCYXrR1xwTIierheDPwXOpTs2DEe+DxwNvSY7yEoo71R2A35PN+KW1o74IJlyz7oDXlw3jfSoExAkcOjon/WicrfNBJjkUU5F3qIc+nxKGE/iB6cYeiNPzl8xqEjNaehA7Y+r9lyM/AmdBYR4GPA5/K+qQxYjCytG8Gjh+ALa5dEIjUcOAg4FkV1ZqIieWPCv6vg81kvutC26dPIwnoFyh4fm/eNZcBfgDei2lulFy1fYH1QdTbtBPTQHIcco6nPWweqFtAKrEWF9taHPzeiEsjbw59d4f8ZgSJtw8OYx4fPOORXGRv+fSpnHpeiNIA/oYJ7lyELtxG5EgUc1rlgOTsQHaU5GvgIcCI965+nRDuwBmWEP4oqfj4R/n4FEqlWVECvI3y6YMe3dVTpoLt8chMSg7Go3PK+KCJ3IAoqTA3/PK9igj8B3gVsQ8edLgV2H8T1OlH9qidRUb514Z81hXHuh/yU46jv2mkHPgn8JwlWca0nLlgRkVU1GngvcCHa9qVEF7KaFgB3hc9DyN+xHglSJluHqsjc6DA3z0dlcY4ADkU+vXod6F4FnI4yxIeil8un6H/UcBPKNr86/Pk0skQ7ov9mOLI4p6K8rznhzwl1GusS4Bzgdijv1tAFKyIsyInIP3I+aR1Q3oAqd/4WVbJcSAJ10yMRG4msr6PQ1uxo6rN9/irwz9E9XIiOuYyv4f9tB/4IfAu4iRBt3Nl8VtXXPxwFWc5CllfWXA28GWh1wSo54UHcHdUreiPppHw8g87J/QLVU9rlosqLqgDFTOC1KG/qILKzuh5E1k53xLAJOBnVwzqS3rfyHWj7/EN0GmE19H9Oo5LWh6DD7XPJ1uLaArwN+euSfAayxgWLHnW/v4jqVKUgVivQSf4foQiRSUXOehH5w/ZBVsg7ke/Lmi3Iwrmuc/6cWDTHo23qseF7W5BF9QzaQv4Bbf0GbaGG72xC0cpPoHr8WT1DtwCvA9YW6XmwovSCFT3g70P1lPLOmm4HbkCJg3dSMKGqJhKuA1HJ4jch/5cln0EpDj2sjui3bUKWUBdy0GdZR34v5Et7ZwbjBEV/zwOuKPJzMVBcsPSgvQjVF5+a8+1sAr6G/DJroXHM/jDPw4E3IB/hFMPLX4sc0nXrxlPDOM9HQjo5g6+5DNX/2pb3eOtNCluf/Ab/3MN1AfmL1Rbgs6iY29rO+XMaRqzgWeFtQz6j96E8KisOoH7RulrH+f0wzsUZfM2xwIy8x5oHpRaswJHAa/K+CZRD9C0a+K0ZjesadJB5u9GlJ6KtWBKEcXahhM9/xF609iKcpyzbOcPSClaUHHouyuTOk1Xojbwl5/vInEi0fo769lkwBtstpuU4rwb+hbDFN6I7qbl067d0A65iKsqQzpv7UYurhtoG7oKVwJ+NrtVMYoIFO4jzV1FAxYpZKOO+VJRSsCIz+ijy713XibZIrTnfRx781fBakyG9LVIQrQ5UNfUGw0vvSzYO/aQppWAFhqDDzHkf5v0TaiRaGusqGuci5KC2IO9t/a5YSxT9NWA8+b9s606ZBWs88IKc72EJOvtmGTErEquwE6wxJPo8RwJ9B6EDkAEjCYKVmlWZJUn+wHViT/J9Qz2NzsDdBOWxrqpopecB48FQhA7aW5BFbUVyfrusKbNgdZcJqTdb0AHmNyFnbKnLhfBcPa6GJvqNF2DnfC+dDytv/02eTMbuGM7DqFPxWlQ7ak9UuWAaOp7RhWpW/QWJ1e9RpYWyWlZlZjFqTW9RHXUC8sWWQvSh3II1EbujST9DxdVimpFYtaBIYCuqtNDpIvUsQymflb8BHcGyEKxRaA1bJeAmT5kFy2o72IlqU1VbS9uQVbUm74EmzHjsOmJvQr9F6mzCLkF4BCUTrLK93WKsivNtQ5U+nf5jWV55Q96DqZFOiiGsSVJmwbKiC38A+0UUht8bOyt/DbhPsNFxwRo83Q0bnP4zzeg6nTxXcTR1mrAT6Q5K9rIss2BZHYVpooRnugwYgV0F0m0UR7BGoaRPCzZTIv8VlFuwrNqbV1CzBad/7AFMN7rWBmB53gOqkbEocmzBRkqU0gDlFqzV2P3Y+0K5jkgYMA27FmqrUA38ImAZaFiDC1ZpWI3dObaplDtFZCC8EJ3/s2ARiUdqo5fZ/tilcqzKe1z1psyCtQLlxFjwPOwWX0MTFu4w1NHGir9RnOKHVoEGKM422IwyC9Yq7N7KU0ioRG8B2As1/rDiIShESsNw7Gqxb0XVPoowbjPKLFjrCT+4AbtT0qYAA+RwtDWyYD22hQCzZAKyxi3YhN3zWxjKLFitwN+NrtWMFqE73ndCNDfHY3fwfBHweN5jq5H9UbKsBSvDp1SUWbA6UakPK16E3XGfRmYi6pBsxQMk7nyOhPpQ7HL2nsG2sUUhKKVgRXv+h1HSoQWHYBembziiRfti4CDDS/8JuyKAWTIEeAl2FUIWUpxAgxmlFKyIhdhVU9gHmJn3gBJnCHAqyva2YA1wJxTC8bwbSuWwoih+O1PKLliLsfNjjaSkzS37wRTgBMPrLSCU9ikAB2AXmGklCFYBhNqUsgvWBuQDseJo7KyHRuQ4tHCt+COwLu9B1ciR2HX2WQo8kfeA8qDsgtWFmnlaHW+YhV3YumEIFmczcAa2BftuhrStjGjsLze87CMU5yiSKaUVrOghvx87P9Zk5Fh1dmQmsrCsWIhdq/us2R8FG6y4C7tjZYWitIIV8QTwqNG1KmhRVtyPJaJ5OAXbKOpNJG5lRGM/BruWXJuRYCVtWWaFC5ZyWf5seL2X4uVmqhkPnGZ4vY3A9VCIRTsMBRqsijw+RUkjhOCC1c0jhteahnKySk9kYbyQcBLAiL8A9+Q9vhqZiiwsK+6lhIeeu3HBkpP8jYbXawFeBp7eEHECttUsukj8VEH028/GrsN4J3ALxUiUzYTSClZ4oEYBn0IPlSUvxOtjddOCQvqWHANcCAxL/KXQjHx3VtvB5RQnUTYTSilY0UN+DvD6DL5iOjaNMhsBywoF3VSAdwGvhKQt2RkoN8+KeynOQe9MKKVgBfYGPoBdQ4CY3XDB6mYC2czFBOCDGV3biuOxiw6C8s5Kd34wpnSCFb2Nz8L2bFfMMHxL2M1wsmuD9grgJEjLygr3MhI4GbvDzquAW6G820EooWAFdkeO9qzG34ryZRwdncnKKhiJfker2lqWHIBSXKy4B9todiEpq2AdCRyW4fWfxC57vuisRLWbsuJYEkojiSy9o7DNx2sGRuc9vrwplWBFD9OryPaQ8i2o5rajxNzbMrz+REIFiIS2hRUkWFbbQdBZxH8GmhIaZ90plWAFdieUgcmIvwPXQrl9DVVcTrblfI8lrW3hGGyLFMJzkdE5kJQ415UyCtY0bFstxbQD38N9DUAPwb4L+AnZNf08hLS6Fo1Hna2zuO6HUIS0lJRGsKI30kz0w1vTBfwM+C64ddVNmId24CvAbzL6msmkVdaniewy8Y9FVVtLaWWVRrAinp/BuLcA3wc+QuIdiPMgiNYylPd2GbDd+CtGYlsYcLBsJbsocTOKjJbSAV82wRqCXT88kFDNR76FC4HlnfPnuHXVN08C7wEuQFnbVg1AhhDO6yVidawh28joUWSXQ5g0ZROs4SiqZMFW4MPA6cBPgc0uVH0TCfl6tG0+GfgCdgd5J2EblRsMm8k2MjqeBBNm60EZBcuqasAy4DpgnVtVtRPN1UrgtyjJ1oLdyC6jvl/jC1yDaq9nxXHYVsAoBGUTrCbs8q/WUpwGCKmyBhXjs2A4aT3P9wEXk11k9PnYla0pDCn9wPVgKHZNEDaj6JczcCyd06NJ5HkOVlYn8A1khWfB7ki0SkUSP3Ad6cAuQjWSBLYgBacZu4TPzUgkUmI5CjBcjX3RvSbgQCiXH6tsgrUduzf6bmSTz1UmJmDnh9lKdtuvfhP5sh4H3gF8HHX6sRSulHLP6kLZBGsbdk7eSeh8V0tl9rxSveUGQzRXY1G9KKt6VutIrHRwFGBYDVyEjtV8DjsrfzIlK2NUNsFqQ3WFLGgBvgVcBZwJDHfR6ptIqFqAN6Eo2qew21avIL0tIfCscHWijjc/x+4ZHIuCDaWhbILV/dBYMQblw1yC3py7ubW1U/YCvg78kGCdGl77KSjEkahV2EWXR2IXRCoEpTInAwuRr8MyyXA0Ktfbgo7nWG07G4Ig4Lsjscqihv4W4LG8x1kj7Xh0ecCUxsKK3rwLgA0ZfMVQ4G3h41ZWIMxDBUXLzs7oa1agsj5FYAjpZOQXjtIIVsTj6ExbFjQD7yetg7gp8CLgnWT3vD0MLMl7kDUyDruDy+0k6rfLijIK1krgjgyvfyBwBriVFY3/bLKtVzWfhLvJRH7NYcBLsCudvBEFkkpDqQQrbAu7gBvItoTxyylZ9GYnjEfzkRVrUPurJB3uQaiGoma9P0bZ71bHw1ZiV/GiEJRKsCJuBx7M8PrTKHFVyComAvtmeP3bgQfyHmRvRO2+LgSuAM4D9jT8iqdIKFm2HpRVsFagfJisfuwxZNvkokiMJ7u5aENVXpNrqRbEajjwUeCz2HbQAfmuihIZNaN0ghVtG34JPJTR17STWNZ1jgwlu6jYbYTDxSltByPf3VxUMy2LBhnrUcQ7qbFnTekEK+Jp4L/IxmnZhn0ZYKcnG4BvojI/KbI/astlmRwb8xTFSeUwo5SCFb2RfoZO0jvZMQL7bOwu5MBO2bo6DZiV4Vf9CbsjPoWhlIIVsRGdZ7sng2uXyhm6E0ZhL1g3Al8CtqUkVhHNwIlktxVuC3PQlej4M6O0ghX90H9D3Vz+anj5Cl4rq5sx2ArW7egYVMqJoruRbfLww2RbMz5ZSitY0EO07kCdb6yiLqNRONtRQ1ErS+NWlDH/CKS1FaxiNHZlc3rjCtRToHSUWrBgh+7E9xtdtgUdwXBsM9wvRtZFymIFSjnI6sjM31Bvx9TnIBNKL1gRHajQmgUjgSl5DyhPgvN5CLC30SW3oczuIizUrBqptgPfQ+dhS4kL1nN0oYRSC5pRtnvZzxOOBPYxutZm7F4oWdNGNmcbrwd+AoUQ7UxwwaLHj2/ZR+5gvIzIOOyO5bQSLKwC0IV9lPgR4N/R2cnS4oLVk6ewSyQ9FG9SsQ+qO27BSpTdXQSso8RPosjofVBe6wpcsKp5BrtFMQOYnveAcuYg7IIPi8mm8GIWjMDu/ORS4L3APCi3WIELVjVLsdsWTgCOyntAeRD57V6K3TP2BMUppdKCXVrDw8At4GIFLljVrAMeNbzeScDIkjrex6FKo1Y8kveA+sFE7KqKrsVrwD+LC1ZPtgN/MbzekcAheQ8qJ2Zg10p9E8o/StrKiF5MU7Et0ueCFXDBCkQL4W7sQtITgddAedIbonHORlnuFixDW8KicDB2TnfLyHXhccHakb8Ciwyv9zpgv7wHVWdGAScbXm8hsDzvQdXICOAFRtd6to9mypZlPXHB2pGlwL2G1zsYOAfKY2UBhwEvM7zePWRbg9+SfbErK7OF7Do8FRIXrB1pR00NrM6CDQHeCjwv74FlTSTIZ2JX034rcCcUxsp4GXbHkVaiVBsn4IIVES2I+diWLzkEeAdQKYGVNY3Q5syIp8m2YYgJURuvk7HrqP4kdsfFGgIXrN55DImWJW8HjoHG3BpGY3o96s1oxZ9Ju/ZVzPOxbWn2ADqS5ARcsHpnOyqdbJmoOBn4BIocNirTgTdjd4ayA/gd0J7ydrBqK2x1drIDlTwqyla4LrhgVRE9HLdiW4UUVDb3Q0BTI1lZYSwVZEUebHjpp4E/5j2+GtkPWZdWrMQ2J7AhcMHqm2XAlcbXrADvB94ADbc1PBoFFyz5A4lHyaLf8E3YNp14gGLlntUFF6xeiKysy7FfMGOBzwFzoPiiFe5/d+Dj2HY13oq25UXI8j4EWZeW5YR+R4INYvPGBWvnLET1s63ZB/XUOxqKK1rhvociq/Ek48v/hRD4SNWHE8Y/Am3zLStzrESpNcmOPS9csPogPCidqMLj0xl8xfNRudvjoHiiFd3vWahWk3WXoCtJuO9eVVR0rvHl7yLUrnd64oK1ax4C/jeja88CfgS8GhhSFNGK7vPlwBdRWytLHgOugjQtjGj8LwE+iW135w60FfbtYC+4YO2EsFi6kKg8lNHXTAd+CLyPApSiie7vGODbZJPBfzl2LdeyYj/UzHWG8XUXADdAmmKdNy5YtfEE8jllVUBuMnAR8HVgamX2vCS3iFEnnDnAD8imdM6TyKJNsqtxmIOJSKyOz+ArrsD28H1D4YK1C6JF8wvgugy/aiRqEnoFcDYwPCXRCvcyBjnYLwZmZvRVPyXBYn3RS2Qi8FXCgXZjnqTEPQdrwQWrdtYDnycbB3w3Q1CVzh8DXwB2z1u0ooW6L/Bd4CvYNkeNeSiMPSnrKvoNuqO7bySbtfMztCV0+sAFqwaqukN/lexri48G/gmJ1pi8RQsJ1LfRQm3O6Du2A/9NYsmS0dy/AFmW55LNunkMuITExDo1XLBqJHqIfgT8sg5fWQHOR9vEXHxa4TubgI8Cp2f8dTcgCyOZ7VAY/3CUtvBz4ASy6TXZiQIvbl3tAhesfhAW0kbg06iKQNY0oejhQTkO+1jgLRl/x1LgP4F1KYhVtA0+EAVCfoBtBYpq7qTkHZ1rxQVrYDyGrI4s/VndTCeHuvDRgea52OdZxWwHvgbcVrfB7Xrc44ELgGuAd2PXAac31qOI47K8x14EXLD6SfQG/D3wMdSGKWuOR1HEejOZcHwoQ34FfJ+cfTdVwYXvAF9GpxGy2ALGXAz8Fty6qgUXrAEQPViXAZ9FbaiyZBp2JYf7w17YlfvtjftRpngqLegnoSjgXLQdz5o7URBnu4tVbbhgDZDwgHWgyNaXyLZJQgvZbkv6YhR25X6rWQr8K8HRnLd1hdbCBwjb7zqwHPh36uNWaBhcsAZBWGTbUJb6RWQnWkPIfmtSTzYgy2oeJLMVOhx4G/VZE1tQiaGbEhp/IXDBGiThYduCkko/g6KITt90L9afkEDOURTIeB3Zbn+76URRxx+mMP6i4YJlQHjotiJ/xL+gekbOjmxBybDfJK067S2EBiF14JfI77klofEXBhcsI6Lt4feBd5F+tYF6sxmJ1UXA1sQW6wTq0537OuAjwOq8B1xUXLAMiYr+XY1qfCd3iDdHriJNsQJZWCMy/o7rURLwos75c9xvNUBcsIyJHsS78aqRMStJu918lkGN64D3knhDjSLgguXUi0aKctZKJ/JZvYcgVm5ZDY6scmwcp+xsRZHAzwCrXKhscMFyHHtWoFr33wM2u1jZ4YLlOLY8gaqyzgM6XaxscR+W49hyPy5WmeGC5Ti2dOV9A42MC5bjOIXBBctxnMLgguU4TmFwwXIcpzC4YDmOUxhcsBzHluehTkNjojrxjhEuWI5jy4tQY42rUDPcgyqz5w1z4bLBM90dx55xqOnq8cBi4BbgV5XZ8+ajYzteaXSAuGA5TnZUUNuwNwOvR/XRrgOurcye9wCh25KLV+24YDlOfRgOvCB83g3chbaON1Zmz3sS6HDh2jUuWEZEPophwFS0HTg87/tKiGNQv78/VmbPW0q5z9pNAE4GTkJtvm4Crq7MnncnsAbc6uoLF6xBEvW02xN1SX418HK0FRia9/0lxEtQp5zH0AL9TWX2vLsp9wIdiqKK70QltR8ArglzswD1CCjr3PSKC9YACCI1BNgdLcRTgVcCBwDNed9fwjQDB4fP24EHUa3z6yuz5z1Efj6dzvDJk1HAkcARwAXArSjSeGtl9rzluKMecMGqmWjLNw75IbpN+pnoYXP6RwtaoEeiBXo38FvgpsrseY9SX+tiPWrumgJDkLV+LnAmctT/Bm0ZHyTUxS+reLlg7YRIpEYDs5BAvQo4FBib9/01EBOAOcCJwDLgdrRI/1CZPe9psu9huBb4G7L8UqIZ+UEPR63jbgOuBH5XmT1vCSW0ulywqohEaiSynk5Ei+lFwHjK2UyhXlRQ9+Wzgdcih/StyKdzO7CcbJz124AbgDNIN5l6j3B/pwILgV8jq+t+SmR1+eKjh0iNAGYgf9TJyD+1B/nP0xKUiLigXg9lmJPZaJs2Jufxb0OL9Hfhfu5BznoTCyOMdR+UZvCinMfaH1YDfwQuD3PT8L6uvBdibkQi1QRMQ5G9U4GXAZNJ6027CAnWo3UWrKORUzxvwYrZhPo9Xo+sogeAjTBwCyN6FuaixhFF2+5vQ76uq8PnYRo0wlg6wQoP5zCUdnAccApamHuTbhrCA0iw6tYuKszTTOBm5AROkXXAfcjquhH5oQa0PQrjbQI+DHyCYgZSupCV9TvgMmB+mKOGEa5SCFaUK7U3EqdTkFjtRzH8eP8H/APZO5+fJczZOOQrmZ33BOyCLnRG785wv7egxqXtUPtiDWMeDrwV+Fdg/7wHNgg2o63zz1EA42kaIFm3YQUrypXaA23zTkXZ59MpVq7UdrSALq3nwxZtkz4GfC7vSegHHWgLfQtwLYo41uzbiZ6bw1Gu2Mno5EIRXmx9zcfjaKv4C5T7tq2owtVQghUtsrEoV+oUFOE7iGKa+KCFdw45dA8O8zkDLfyD8p6IAdCGnPXzkOV1LyHfaldzGcY+FLkOXomilkehF2BRWRHm4lK0XWytZS5SovCCVRXhm4kE6hTghRTPeVrNMrQVnAf1f7CiuT0f+BbKRysqG5G/61rkrP8bNTimq9JcZiFL/VSUizcy70ENkFYkWD8Nc7FqV/OQCoUVrF7egKcj/9TEIo8rYiXwL8Al5Oh7CPPcDHwE+XWKLFqgIzjLUTrA1ciCXUYNW8aqI1lHoLyoE5CvK9WAzc7YhkT8pyil45la5iFPCrWwo7fdBPTAvBaJ1VSK62OophM9RJ9B0a/cy45EonUeEq0ZFOzZ6YPu/K7fokPH9yFnda1W11D07J2AxOsIJGZFowOlRfwMOemfIFHhSv6hix6OZrTlOw1ZU4dRXL9Ub7SiNudXIefoM5COmR5ZFzOANwKvQUdZRuR9b0asRVHGK9EW/BlqsGyrtoyHoWodpxZ0brpQNY1fIKtrYS1zUE+SFaxogUxCSZ1noVSEySnfdz/ZjiI4N6I3/N0knjdTFX09GlkWx9M45XTa0aL9NRKv+4EtULOjvntujkE7gONRFn1Kici7ogulhfwM+F8SEq7kFn6UwDcTLYYz0dtqeN73ZkQnsBQdZL0GnZVbQiIPRK30UrDwlcjqOoJiR9Ji1gB/QEmYNyO/Yk0vkyhBeToKBL0WHfUqUiAoFq6LkZDnulVMQrCq0hFmo9IaJ6EM6yTucZB0oS3H3SiJ7yb04zfE8YmqbdHBKErbHUkrupMelB7xAPLvXIUWcU0vmGhuxqBzimeg3K4Z6MVcBLq3ihcji2sR5PPc5ioGkQm9N3rA56I3dEue92VIK88VqbsByLNIXV2IFuhuwIuRz/EktECLbiV3Iof0lcjqeIh+nD6ITlxMAV6Bdg+zSeOAfa3jfwj4LvJzrYb6Psu5TFL0w81ASZHnoi1gI0T6tqA9/42oQ8p9yLpqWJHqi17KR5+O/JCN4O9ailIBLkFHYGq2lqtyB2eFeTmd4rg+tqMTBN9AL+OafHwW1FWwotypWSjSdA7yfxTh7bIztiHn+S1IpP6E/B1JhobzIPLpTEXWxWmo2mjRgyirUTLqD4E/089jL5F4TUJi/rowP0Vwh7QiP+zX0CmCzP2wdZmQKqE6HwnVlHp8d4a0A0+hBMTfoJD4UhLIm0qZKuviQFQg8VTk39kt7/sbBKuRxfVdtHj79RxUpe8chCyuM5AfMPX0iMVh3D9ASbmZWVuZClbkozoIeAfa+hVZqDrQj3MbsqT+iPJ1+lUVwBFVJagPReWnT0YvtqL6MZeh6hrfR66BflvZ0bxMBI5FTVhfgaywVK2uDuAO4PPIHZJJZZFMBh9N+L7IonoramdURDrRQ3gnEqk/AH9H+3gXKSN6cdafgpz1B1IMv041jwHfQVG1mtMh+piXZuAQlBpxBvJ1pRphXIu2x19H6Tqma8RUsKrSE85G3VAOpVhJc6Aw7krkk7gO+aYeQ+FtF6mMiSzzyahCwmkoeXgqxQrMtCNr/CJkdQy4rEs0J3uibfTrUYRxfN6D7IVO5Mf9FMpfM3OTmAlWFBE6CvgoSpYr2ptxLYr43IBypf5GHSMgzo5UHXI/Dh19OQYt3KK8CNehJrJfRYX0LMo5j0KJqOcgQd8/wflYiRzy/41aqQ16HQ1asKr22+8D3kO6JXV7YyNKCrwBnSFr+FypIlLllD4AHTg+DS3aCXnfXw10IWf8Z5DVPmgfTyTm09BW8Vx0njGlApXbUZOMT6ActkGtq0EJVmSmHoV+iOMpRn7NFmABEqjr0XmxdeAiVQQi8WpBLodTeM5Zn/qB+DXAN8NnrWHXH5DRcCKqqnEsaTUPuQOVKLoNBr7OBixYYZJGogJzH0cHPFOmHSn8zSgN4S48V6rwRIt1d1QK+3RkfU0jXX9XO8qW/zcMrI5e5qIFGRHnITGflPeAA0+gJh+/YoA5WwMSrDAxE4FPonSFVCsvdkf45qPkvj9QY9kQp3hEW6R9UBrAa5G/K9WjL7cDH0TBHVPrPioicDjwJnQMaL8E5mEFEupLGMC2uF83Hyn4NOAr6HR+ao4+UN3ue3muHO6jFLjwvtM/qpJTD+a5GmqzSO/l+gjwfuD3YO+SiET8QOAN6LzudPJdt+uRT+u79FO0ahas6CE4BPg2CjOnxHYkTDcgk/M+amw44DQu0XMb16g6ESUw521tdPMo8G4yEq1oHiooNWQu8GYkYnkJ1wZUvfZ79GPHU9MPFv3oB6P0+6NzGmRvrEJbvivRD74Y90s5vRCdZzwQWV1noS1TCkdfFgJvY5BO6RrnYAgSrjeQr3CtBv4R1Ruracz9Eaz9gf9BDs282Y6ifNcga+pBBtjx1ykfVY7641A6wCuRXzZP7kYCsiDr57hKuN6ITqNMo/5W51PAW5B/eZfrd5c3FwY2HiV/vaHOg6lmA7Kmfo4SO5fi1pQzQCLhGo7SI85FW8Zp5LdVuhoFslbX47mOhOtAZOGdh+rT1ZM70Tb1Kdi5aO1UsKJ97ydQRDCPMHEX2ub9BgnVXXhip2NMlY/nTGR1HEb9n/kO4LPAf1DHaHY0/heiIMDrgHF1HPd3gA8BbQMSrOjtcxI6fV7vOt0dyBn5S1TdcAEZnQB3nG6i535PdAzofOCl1Dd7fAU6K3gr1O/FXGVxngBciLbM9ThovRHN9ZU7G/OuBGsCsmpOrMuMiQ50POYS4Ap09sq3fU5dqfJzvQZ4O/UVrmtR/tTGHDt+T0BbxAtQKkTWzEeW3cp+CVZ0w+9EKQz1UNhuoboYWVWLwbd9Tr5UCdeZwHtRZDHrI2hbkDP6cshnHUT+rUPQsZqzyfboUzvajn6/rzHvTLAmogjcURnPSxcK6f4AhTddqJzkiIRrChKSdyF/V5Zch7aGrXmuhzD2UeFePoYOn2fFHciiXVWTYEU/zOvRtizLEjErUNmN75Fwe2zH6SayOg4F/hnlcmVVHXUDsupuzntdRLpwGCp08GqyCUi0oW1or5ZlX6HbYegoQ1ZitQ111j0LnSt6vHP+HBcrJ3nCM9qFShK9G7lNHs7o68aiw8uxYOQ27jD2B1D6wxcJJ0mMGY5K5fQqhn0J1iRUZygLFqH98HnA/M75c7xpg1MoosW7FfUnPAdZBO0ZfN1RJNQtOox7LUq9+CAqLmDNS+ijwkRfgjUd+2YRXajU8FzgW8B6FyqnyETP78PI0voysNn4a6aRWOOWMO7tKED2HtQJ25Ip9BGV7EuwDsK2+Fc7KsZ/Hiqp4ds/pyGIrK11wKeRf2eT4VdMIFsn94DHjYyQXwH/hE6dWDEGadAO9BCsaJ88y/DLO5BT/QI8Aug0KOGZbkPdYi4idFUyYDgqOpC7H6uPMYNyxj6FrVDP6m3MvVlYo1DbeCt+Bfw7YQvoYuU0KuHZ3oZE6zrDS88izbpzsaV1CXCp4aVn0kvOV2+TsAd2PQQ3osTTNS5UTolYj1wgVlbWAdT3XF+/iKzLS7GLHD6PXo4D9iZY+6J+cBYsQWcAHacURC/mBajekwX7YLcms+Rx7HxZk5EW9aA3wToAu0S4x7D70RynSCxG/QMsmED2WfUWrEJr3oIWegk2PCtYkXPrIOz2y48QuiU7TsnYgI6cWTCCBCOFvdCG1rwFFUKkMHa8VwtTEyrkZUGX4c07TmEI28IObDPgZ0J6kcJeeAStfQsOpKrwQrVgjcPO9GwlvGHc4e6UlEewy36fQcJNYqM1vhCtfQumUhVsqBasicBeRl+2Eh3DcZyy8gSho7gB+5JwpDBiEVr7FuxFVZ39asHa33BSFiEnnOOUlaXAcqNrWRoTWbIKO0NlHGr++iwV6LEvnopdo8nHsD9X5ThFYh125+zGUrV4E2UzdpHCkYSc0G6NqrawZhje+ELsnG+OU0TaUF8CC5oIB4ITd7x3F+S0oocmxYI1DJ0Mt2A7QWXd4e6UHMvFa7U+MyFa649hl+U/jag2VixYY+kls3SAbCT0GHOcMhIt3r+j+uwWPI9sKwBb8RTSAAv2IaocEwvWeOzS/1eRTWEvxykai7BbvHthW/YpK5Zjd8JlT2C37r+JBWsv7CKES9EBUMcpO6uwixROQt17UmcdOkdswTii6GgsWHtjd4bwKTxC6DigF7fVgeCxFOMQ9GbsXEIt9CFY+2HXa+1J6thm23ESpg271IaRyKeTLGHNdxqOeShROkclCpFa5Xh0IUej4zhaD1bWxlCCYCWe2gDSAKu0pv27x9xtYTWhLaEFW7Erq+E4hSXaYTyFDkNbUITkUZAGbDW61t6EQ9DdgjUCu84cG7EtSO84RWcxdmWWppBNA1NrlmEXHd0badSzgjUGu+jDWmBNXafGcdJmJXalgyeRXadpS1YjLbBgD0I6R7dgTcAupWE5duUlHKcRWIXd4p0EjM57QDXQil06xzikUT0EyyohbTme0uA4MZuAFUbXGkuUSJkwm7ETrDFUCdZkoNno4kuwczA6TiOwFbuTHy300k0mQTqw82U3E/LPugVrT+wceYvrOy+Okzzt2AnWSIohWGCnBcOQRj0rWJOMLtxJ+GE8adRxeqwDq6MqFRLPdo/GvBRpggWTugc/BDvBasOuPKrjNBJLsUuk3DPvwdTISuzSOSYCQyooIWviIC/WjQuW4/TOKtTG3oI9oBDZ7paCNQloqiCHllUOVitepcFxemMNdnWx9qCq/VWirMcuxWl3oLmCcjrGJniDjtNIrMVOsCZgF9XPklbsugaNBUZ3C5ZVDtYGlHPiOE5PNmJ3VGU3imFhbTIc8xgiwbLKnF2Lt6Z3nN7Yip210UIxjue0YZfhP5ogWOOwqxO9Bk8adZzesBSsURTjeE4HdueKhwPjKmg/bGVersYFy3F6ow27A9BFEiyr2u5NwIQKaj5hJVhW5p/jNBqd2K2PEUi0ioDVmJuA8d1bQqtjOevBs9wdpw+stkfDsIvsZ0KkAVZpTsMIW8Lx7NgBekD3iN0e3XEaEavFOxS7clBZsw6b4zkVgoU13ujGOrDboztOI2IlWBWK0Z8QpAlWfu1nt4QWdOKC5Tg7EG2PNmJjbQyhOIJlNWYIW0KrvfB2vHCf4+yMVlRqxoLRUIjzhJuQNlgw1lKw2rA7euA4jchm7LZHRUgcBeWfWSWTj61gFx5tw66tj+M0IpuwE6yReQ+mRrZiV6ViVAU7pd5ueGOO04hsxm5L2IJNdD9r2rDThZbuelgWuGA5zs7Zhp0DejhyvqfONux8WE2WFtY2fEvoODvDco2MojgWlpVgtVQMB92BnyN0nJ1huUaGUQwLqx27bXDF0um+DRcsx9kZlhZWUXxYHRg63Ydhd45wIvBRoK0AuSGOkweWTVAzsa6itTsaOBg4FNgbHQcaSBON4dj1jBhmJVYA+wH/Zng9x3H6prvjld0FJVYjgVcD7wBeik7CJGPJDcOueJ/jOPVjBFq7g07WjqyqPYFPAW8hzfI1zcPCwB3HKRbWFtYewDeAc4yva8nIZEw9x3HqT7CuhgIfBs4mXbHS/eZ9A47j5M7RwNspgB4kf4OO42RDsK4qwFxCN+nUccFynHIzETg275uoFRcsxyk3U8KnELhgOU5xsXCQjybNFIZeqeAVFhyniFid0etiYBnsedBWAZbkfReO4/SbZdhU+F2DXXOMrFlSAe7J+y4cx+k392FTtuUZ4Im8B1Mj91aAy1FxfMdxisFq4EYwaVq8Hrg+7wHVQCtweQW4Drg577txHKdmrsFgZxSJ3WXAgrwHtQtuBq6rIIX9EvB03nfkOM4ueQj4MtBmYF118yjSgFR3Wk+H+1vfndZwG3AhsDjvO3Mcp08WAhcAD1tdMBK9S4Evos4+KbEYadNtAJXohq8Ezgdux66kqeM4g2c7MA94M/B7MPFdPUu41jbgIuADyOLKO9WhHWnR+Uib6Jw/57nEs6qaOGeGzyGogNfQnG/eccpGO0o5eBAFxq4Jf28qVjFBA4YAB6LzhScD06lfOeYO5KL6K3BV+CyLx7xDpmwkXC0oZX8vQltsx3HqQhewEeVILiHkW2UlVNVEwjUO2BeYRH3q5rUCS9E2cFM9x+w4juM4juM4juM4juM4juM4juM4juM4juM4juM4juM4juM4juM4juM4juM4juM4juM4juM4juM4juM4juM4Th78f4XaVn6in5YxAAAAJXRFWHRkYXRlOmNyZWF0ZQAyMDIyLTAxLTEyVDAzOjA5OjE2LTA1OjAw+gqghQAAACV0RVh0ZGF0ZTptb2RpZnkAMjAyMi0wMS0xMlQwMzowOToxNi0wNTowMItXGDkAAAAASUVORK5CYII=)"
      ]
    },
    {
      "cell_type": "markdown",
      "id": "4b77b260",
      "metadata": {
        "id": "4b77b260"
      },
      "source": [
        "## <font color='yellow'>Code for token generation and API management</font>\n",
        "      "
      ]
    },
    {
      "cell_type": "code",
      "execution_count": null,
      "id": "sU-n_nAGaljV",
      "metadata": {
        "cellView": "form",
        "id": "sU-n_nAGaljV"
      },
      "outputs": [],
      "source": [
        "#@title Select **servicePack** the Sample should run\n",
        "from subprocess import getstatusoutput\n",
        "servicePack = \"DEMO\"\n",
        "\n",
        "if servicePack == 'DEMO':\n",
        "  branch = 'main'\n",
        "else:\n",
        "  branch = servicePack\n",
        "print(branch)\n",
        "rm = getstatusoutput(\"rm Colab_shared_code_for_API_usage -rf \") \n",
        "clone = getstatusoutput(\"git clone -l -s --branch \" +  branch + \" https://github.com/kyriba/Colab_shared_code_for_API_usage.git\") \n",
        "import importlib\n",
        "try:  \n",
        "  importlib.reload(sample_requests)\n",
        "except:\n",
        "  print()\n",
        "from Colab_shared_code_for_API_usage import sample_requests\n"
      ]
    },
    {
      "cell_type": "code",
      "execution_count": null,
      "id": "31f2f8e5",
      "metadata": {
        "cellView": "form",
        "id": "31f2f8e5"
      },
      "outputs": [],
      "source": [
        "#@title Import custom modules\n",
        "import time\n",
        "from datetime import datetime,date\n",
        "import json as js\n",
        "import copy\n",
        "import numpy as np\n",
        "\n"
      ]
    },
    {
      "cell_type": "markdown",
      "id": "144f5fb2",
      "metadata": {
        "id": "144f5fb2"
      },
      "source": [
        "## <font color='yellow'>Connect and  retrieve token</font>"
      ]
    },
    {
      "cell_type": "code",
      "execution_count": null,
      "id": "f0259b5a",
      "metadata": {
        "cellView": "form",
        "id": "f0259b5a",
        "scrolled": false
      },
      "outputs": [],
      "source": [
        "#@title <font color='lime'>Connect</font>\n",
        "print('token:')\n",
        "token = sample_requests.login()"
      ]
    },
    {
      "cell_type": "markdown",
      "id": "Z6K-XYiRagoD",
      "metadata": {
        "id": "Z6K-XYiRagoD"
      },
      "source": [
        "## <font color='yellow'>Create and get user details</font>"
      ]
    },
    {
      "cell_type": "code",
      "execution_count": null,
      "id": "ggGGaem3Bxgt",
      "metadata": {
        "id": "ggGGaem3Bxgt"
      },
      "outputs": [],
      "source": [
        "#@title <font color='lime'> Create a user</font>\n",
        "#@markdown Provide values for parameters below:\n",
        "code = 'USRTEST2' #@param {type:\"string\"}\n",
        "interfaceCode = 'USRTEST2' #@param {type: \"string\"}\n",
        "firstName = 'John' #@param {allow-input: true} {type:\"string\"} \n",
        "lastName = 'Doe' #@param {allow-input: true} {type:\"string\"} \n",
        "accessProfileCode = 'AUTO' #@param {allow-input: true} {type:\"string\"} \n",
        "timeZone = 'CET' #@param {allow-input: true} {type:\"string\"} \n",
        "preferredContactChannel = 'EMAIL' #@param [\"OFFICE_PHONE\", \"MOBILE_PHONE\", \"EMAIL\"] {type:\"string\"} \n",
        "email = 'test@gmail.com' #@param {allow-input: true} {type:\"string\"} \n",
        "officePhone = 1234 #@param {allow-input: true} {type:\"integer\"} \n",
        "mobilePhone = 1234 #@param {allow-input: true} {type:\"integer\"}\n",
        "paymentAdministrator = True #@param {type:\"boolean\"} \n",
        "systemAdministrator = True #@param {type:\"boolean\"}\n",
        "\n",
        "checker = 'false'\n",
        "\n",
        "payload = sample_requests.js.dumps({\n",
        "    \"code\": code,\n",
        "    \"interfaceCode\": interfaceCode,\n",
        "    \"firstName\": firstName,\n",
        "    \"lastName\": lastName,\n",
        "    \"email\": email,\n",
        "    \"officePhone\": officePhone,\n",
        "    \"mobilePhone\": mobilePhone,\n",
        "    \"accessProfile\": {\n",
        "        \"code\": accessProfileCode\n",
        "    },\n",
        "    \"timeZone\": timeZone,\n",
        "    \"preferredContactChannel\": preferredContactChannel,\n",
        "    \"paymentAdministrator\": paymentAdministrator,\n",
        "    \"systemAdministrator\": systemAdministrator,\n",
        "})\n",
        "\n",
        "#print(payload)\n",
        "\n",
        "cfg = sample_requests.pd.read_csv(\"/content/config.csv\")\n",
        "client_id = cfg['client_id'].values[0] \n",
        "test = client_id.split('@')\n",
        "customer = test[0] # rename to customer\n",
        "customer\n",
        "\n",
        "# create user in json \n",
        "try: \n",
        "  res = sample_requests.post_results(token, '/v1/users', payload, {}, {'Content-Type': 'application/json'})\n",
        "  uuid = res['uuid'];\n",
        "  print(res)\n",
        "  try:\n",
        "    if res['code'] == customer + '@' + code:\n",
        "      checker = 'true'\n",
        "      print('\\nUser ' + code + ' was succesfully created in Kyriba.')\n",
        "      print()\n",
        "  except:\n",
        "    print()\n",
        "    # print('Error')\n",
        "    print(\"\\nUser \" + code  + \" could not be created in Kyriba.\")\n",
        "except Exception2 as e2:\n",
        "  print('User ' + code + ' could not be created in Kyriba.')\n",
        "print()\n",
        "print()"
      ]
    },
    {
      "cell_type": "code",
      "execution_count": null,
      "id": "WNzyL66eLGBJ",
      "metadata": {
        "id": "WNzyL66eLGBJ"
      },
      "outputs": [],
      "source": [
        "#@title <font color='lime'>Get details about user by uuid</font>\n",
        "\n",
        "try:\n",
        "  # get user by uuid\n",
        "  user = sample_requests.get_results(token, '/v1/users/' + uuid)\n",
        "  payload = js.loads(user, parse_int=int)\n",
        "  # list of columns to display results from Get user by uuid\n",
        "  colunmsTP = ['uuid', \"code\", \"interfaceCode\", \"active\", \"firstName\", \"lastName\", \"email\", \"officePhone\", \"mobilePhone\", \"accessProfile.code\", \"timeZone\", \"preferredContactChannel\", \"paymentAdministrator\", \"systemAdministrator\"]  \n",
        "  # convert json to dataFrame\n",
        "  df = sample_requests.pd.json_normalize(payload)\n",
        "  df = df[colunmsTP]\n",
        "  display(df)\n",
        "  \n",
        "except Exception as e:\n",
        "  print('User ' + code + ' could not be found in Kyriba.')\n",
        "  print(\"create the user first\")\n"
      ]
    },
    {
      "cell_type": "markdown",
      "id": "qC83bqrRAWsA",
      "metadata": {
        "id": "qC83bqrRAWsA"
      },
      "source": [
        "## <font color='yellow'>[Access Restriction] Optional steps - Update and Remove User</font>"
      ]
    },
    {
      "cell_type": "code",
      "execution_count": null,
      "id": "kp57QIiIViHw",
      "metadata": {
        "id": "kp57QIiIViHw"
      },
      "outputs": [],
      "source": [
        "#@title <font color='lime'> Update user</font>\n",
        "#@markdown Provide values for parameters below:\n",
        "firstName = 'John' #@param {allow-input: true} {type:\"string\"} \n",
        "lastName = 'WickK' #@param {allow-input: true} {type:\"string\"} \n",
        "accessProfileCode = 'AUTO' #@param {allow-input: true} {type:\"string\"} \n",
        "timeZone = 'CET' #@param {allow-input: true} {type:\"string\"} \n",
        "preferredContactChannel = 'EMAIL' #@param [\"OFFICE_PHONE\", \"MOBILE_PHONE\", \"EMAIL\"] {type:\"string\"} \n",
        "email = 'test2@gmail.com' #@param {allow-input: true} {type:\"string\"} \n",
        "officePhone = 123567891 #@param {allow-input: true} {type:\"integer\"} \n",
        "mobilePhone = 12345678 #@param {allow-input: true} {type:\"integer\"}\n",
        "paymentAdministrator = True #@param {type:\"boolean\"} \n",
        "systemAdministrator = True #@param {type:\"boolean\"}\n",
        "\n",
        "checker = 'false'\n",
        "\n",
        "newValues = {\n",
        "    \"code\": code,\n",
        "    \"interfaceCode\": interfaceCode,\n",
        "    \"firstName\": firstName,\n",
        "    \"lastName\": lastName,\n",
        "    \"email\": email,\n",
        "    \"officePhone\": officePhone,\n",
        "    \"mobilePhone\": mobilePhone,\n",
        "    \"accessProfile\": {\n",
        "        \"code\": accessProfileCode\n",
        "    },\n",
        "    \"timeZone\": timeZone,\n",
        "    \"preferredContactChannel\": preferredContactChannel,\n",
        "    \"paymentAdministrator\": paymentAdministrator,\n",
        "    \"systemAdministrator\": systemAdministrator,\n",
        "}\n",
        "\n",
        "user = sample_requests.get_results(token, '/v1/users/' + uuid)\n",
        "payload = js.loads(user, parse_int=int)\n",
        "\n",
        "# remove accessProfile uuid to allow code update\n",
        "payload['accessProfile'].pop('uuid')\n",
        "  \n",
        "# replace the old values from the payload with the new ones\n",
        "for value in payload:      \n",
        "    # checking if key present in other dictionary\n",
        "    if value in newValues:\n",
        "        payload[value]  = newValues[value]\n",
        "  \n",
        "#print(payload)\n",
        "\n",
        "# update user in json \n",
        "try: \n",
        "  res2 = sample_requests.put_results(token, '/v1/users/' + uuid, sample_requests.js.dumps(payload), {}, {'Content-Type': 'application/json'})\n",
        "  try:\n",
        "    if res2['code'] == customer + '@' + code:\n",
        "      checker = 'true'\n",
        "      print('\\nUser ' + code + ' was succesfully updated in Kyriba.')\n",
        "      print()\n",
        "  except:\n",
        "    print()\n",
        "    # print('Error')\n",
        "    print('User ' + code + ' could not be updated in Kyriba.')\n",
        "except Exception2 as e2:\n",
        "  print('User ' + code + ' could not be updated in Kyriba.')\n",
        "print()\n"
      ]
    },
    {
      "cell_type": "code",
      "execution_count": null,
      "id": "SyIvRgGBLD6U",
      "metadata": {
        "id": "SyIvRgGBLD6U"
      },
      "outputs": [],
      "source": [
        "#@title <font color='lime'> Activate / Deactivate user</font>\n",
        "\n",
        "active = False #@param {type:\"boolean\"}\n",
        "\n",
        "checker = 'false'\n",
        "\n",
        "user = sample_requests.get_results(token, '/v1/users/' + uuid)\n",
        "payload = js.loads(user, parse_int=int)\n",
        "\n",
        "payload['active']  = active\n",
        "\n",
        "#print(payload)\n",
        "\n",
        "# create supplier user in json \n",
        "try: \n",
        "  res3 = sample_requests.put_results(token, '/v1/users/' + uuid, sample_requests.js.dumps(payload), {}, {'Content-Type': 'application/json'})\n",
        "  try:\n",
        "    if res3['code'] == customer + '@' + code:\n",
        "      checker = 'true'\n",
        "      if active is True:\n",
        "        print('\\nUser ' + code + ' was succesfully activated in Kyriba.')\n",
        "      elif active is False:\n",
        "        print('\\nUser ' + code + ' was succesfully deactivated in Kyriba.')\n",
        "      print()\n",
        "  except:\n",
        "    print()\n",
        "    print('User ' + code + ' active status could not be updated in Kyriba.')\n",
        "except Exception3 as e3:\n",
        "  print('User ' + code + ' active status could not be updated in Kyriba.')\n",
        "print()\n",
        "print()"
      ]
    },
    {
      "cell_type": "code",
      "execution_count": null,
      "id": "iMXTlLH6g8j4",
      "metadata": {
        "id": "iMXTlLH6g8j4"
      },
      "outputs": [],
      "source": [
        "#@title <font color='lime'> Delete user</font>\n",
        "try: \n",
        "  res4 = sample_requests.delete_results(token, '/v1/users/' + uuid, {'Content-Type': 'application/json'})\n",
        "  try:\n",
        "    if res4['code'] == customer + '@' + code:\n",
        "      checker = 'true'\n",
        "      print('\\nUser ' + code + ' was succesfully removed from Kyriba.')\n",
        "      print()\n",
        "  except:\n",
        "    print()\n",
        "    print('User ' + code + ' could not be removed from Kyriba.')\n",
        "except Exception4 as e4:\n",
        "  print('User ' + code + ' could not be removed from Kyriba.')\n",
        "print()\n",
        "print()\n"
      ]
    },
    {
      "cell_type": "markdown",
      "id": "uk0HXZo22bvB",
      "metadata": {
        "id": "uk0HXZo22bvB"
      },
      "source": [
        "## <font color='yellow'>Kyriba APIs: build your future</font>"
      ]
    },
    {
      "cell_type": "markdown",
      "id": "xrJ859ozwdTZ",
      "metadata": {
        "id": "xrJ859ozwdTZ"
      },
      "source": [
        "![global.jpeg](data:image/jpeg;base64,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)"
      ]
    }
  ],
  "metadata": {
    "colab": {
      "collapsed_sections": [
        "4b77b260",
        "144f5fb2"
      ],
      "provenance": []
    },
    "kernelspec": {
      "display_name": "Python 3.9.2 64-bit",
      "name": "python392jvsc74a57bd03f9257db2e31e76692c2de4df3656be918ff801df539e70a5a7745bf4e7f22ae"
    },
    "language_info": {
      "codemirror_mode": {
        "name": "ipython",
        "version": 3
      },
      "file_extension": ".py",
      "mimetype": "text/x-python",
      "name": "python",
      "nbconvert_exporter": "python",
      "pygments_lexer": "ipython3",
      "version": "3.9.2"
    }
  },
  "nbformat": 4,
  "nbformat_minor": 5
}