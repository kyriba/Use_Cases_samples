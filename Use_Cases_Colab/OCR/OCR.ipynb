{
  "nbformat": 4,
  "nbformat_minor": 0,
  "metadata": {
    "colab": {
      "collapsed_sections": [
        "t8o4MNXLSHCd"
      ],
      "provenance": []
    },
    "kernelspec": {
      "display_name": "Python 3",
      "name": "python3"
    },
    "language_info": {
      "name": "python"
    }
  },
  "cells": [
    {
      "cell_type": "markdown",
      "source": [
        "#<font color=\"yellow\">This sample shows how we could leverage an OCR software to digitalize the payment worflow </font>\n",
        "In this example we are using a pdf reader to parse an invoice, extract relevant fields and create a payment\n",
        "Once the payment is created we then attach the invoice to it leveraging the attachement API\n",
        "\n",
        "In real life a commercial OCR/AI tool may be used for better accuracy and ability to handle different type of lay out/invoices, as well as a validation workflow in the Kyriba Application"
      ],
      "metadata": {
        "id": "RZPcQh6pA4HX"
      }
    },
    {
      "cell_type": "markdown",
      "source": [
        "## <font color='yellow'>Import 3d party library</font>"
      ],
      "metadata": {
        "id": "t8o4MNXLSHCd"
      }
    },
    {
      "cell_type": "code",
      "execution_count": null,
      "metadata": {
        "id": "ajHgYt6PJ2jZ",
        "cellView": "form"
      },
      "outputs": [],
      "source": [
        "#@title Install library for OCR (here a pdf reader)\n",
        "!pip install pdfplumber -q\n",
        "!pip install tabula-py"
      ]
    },
    {
      "cell_type": "markdown",
      "source": [
        "## <font color='yellow'>Code for token generation and API management</font>"
      ],
      "metadata": {
        "id": "kN3l8vORQLrC"
      }
    },
    {
      "cell_type": "code",
      "execution_count": null,
      "metadata": {
        "id": "Lbx-HCEw0IKo",
        "cellView": "form"
      },
      "outputs": [],
      "source": [
        "#@title Select **servicePack** the Sample should run\n",
        "from subprocess import getstatusoutput\n",
        "servicePack = \"DEMO\" \n",
        "\n",
        "if servicePack == 'DEMO':\n",
        "  branch = 'main'\n",
        "else:\n",
        "  branch = servicePack\n",
        "print(branch)\n",
        "rm = getstatusoutput(\"rm Colab_shared_code_for_API_usage -rf \") \n",
        "clone = getstatusoutput(\"git clone -l -s --branch \" +  branch + \" https://github.com/kyriba/Colab_shared_code_for_API_usage.git\") \n",
        "import importlib\n",
        "try:  \n",
        "  importlib.reload(sample_requests)\n",
        "except:\n",
        "  print()\n",
        "from Colab_shared_code_for_API_usage import sample_requests"
      ]
    },
    {
      "cell_type": "code",
      "execution_count": 3,
      "metadata": {
        "id": "U2Eu48s1RGeY",
        "cellView": "form"
      },
      "outputs": [],
      "source": [
        "#@title Import custom modules\n",
        "import json as js\n",
        "import base64\n",
        "import pdfplumber\n",
        "from datetime import datetime,date"
      ]
    },
    {
      "cell_type": "markdown",
      "source": [
        "## <font color='yellow'>Connect and  retrieve token</font>"
      ],
      "metadata": {
        "id": "3IF0CGZhQu-W"
      }
    },
    {
      "cell_type": "code",
      "execution_count": null,
      "metadata": {
        "id": "f0259b5a",
        "scrolled": false,
        "cellView": "form"
      },
      "outputs": [],
      "source": [
        "#@title Connect and get token\n",
        "token = sample_requests.login()\n"
      ]
    },
    {
      "cell_type": "markdown",
      "source": [
        "## <font color='yellow'>Process Payment File</font>"
      ],
      "metadata": {
        "id": "ZpudeONHRHuj"
      }
    },
    {
      "cell_type": "code",
      "execution_count": null,
      "metadata": {
        "id": "PaEn0Eq12M0k",
        "cellView": "form"
      },
      "outputs": [],
      "source": [
        "#@title Upload invoice in PDF format\n",
        "\n",
        "from google.colab import files\n",
        "uploaded = files.upload()\n",
        "for fn in uploaded.keys():\n",
        "  invoice = fn"
      ]
    },
    {
      "cell_type": "code",
      "execution_count": null,
      "metadata": {
        "id": "JeMjO5klGeZ_",
        "cellView": "form"
      },
      "outputs": [],
      "source": [
        "#@title Parse and extract data\n",
        "\n",
        "pdf_file = open(invoice, 'rb')\n",
        "read_pdf = pdfplumber.open(pdf_file)\n",
        "number_of_pages = len(read_pdf.pages)\n",
        "page = read_pdf.pages[0]\n",
        "page_content = page.extract_text()\n",
        "\n",
        "def get_data(page_content):\n",
        "    _dict = {}\n",
        "    page_content_list = page_content.splitlines()\n",
        "    for line in page_content_list:\n",
        "        if ':' not in line:\n",
        "            continue\n",
        "        key, value = line.split(':')\n",
        "        _dict[key.strip()] = value.strip()\n",
        "    return _dict\n",
        "\n",
        "\n",
        "page_data = get_data(page_content)\n",
        "str_data = js.dumps(page_data, indent=4)\n",
        "json_data= js.loads(str_data)\n",
        "print(json_data)"
      ]
    },
    {
      "cell_type": "code",
      "execution_count": null,
      "metadata": {
        "id": "z5UDucPJMffx",
        "cellView": "form"
      },
      "outputs": [],
      "source": [
        "#@title Read data table\n",
        "from tabula import read_pdf\n",
        "\n",
        "#reads table from pdf file\n",
        "df = read_pdf(invoice,pages=\"all\") \n",
        "\n",
        "df_out = df[0].to_json(orient='records')[1:-1].replace('},{', '} {')\n",
        "df_data = js.loads(df_out)\n",
        "print(df_data)"
      ]
    },
    {
      "cell_type": "code",
      "execution_count": null,
      "metadata": {
        "id": "6mFfU9XI_s_O",
        "cellView": "form"
      },
      "outputs": [],
      "source": [
        "#@title Import the Payment in Kyriba\n",
        "from datetime import datetime,date\n",
        "third_party_pype = \"Regular\" #@param [\"Regular\", \"One-Time\"] {type:\"string\"}\n",
        "traces = False #@param {type:\"boolean\"}\n",
        "\n",
        "today = date.today()\n",
        "now = datetime.now()\n",
        "date= json_data[\"Date\"]\n",
        "description = df_data[\"Description\"]\n",
        "amount = df_data[\"Amount\"].split()[0]\n",
        "currency = df_data[\"Amount\"].split()[1]\n",
        "invoice_num = json_data[\"Invoice N°\"]\n",
        "activity = df_data[\"Activity\"]\n",
        "debtor = json_data[\"Company Name\"]\n",
        "cdtr_acct = json_data[\"IBAN\"].replace(' ', '')  \n",
        "cdtr_bic = json_data[\"BIC\"].replace(' ', '')\n",
        "cdtr_name = json_data[\"Account Name\"]\n",
        "cdtr_country = json_data[\"IBAN\"][:2]\n",
        "cdtr_address = json_data[\"Company address\"]\n",
        "\n",
        "dt_string = str(today) + 'T' + now.strftime(\"%H:%M:%S\")\n",
        "reference = 'RTP' + dt_string\n",
        "\n",
        "if (third_party_pype == \"Regular\") :\n",
        "  template = 'DEMO_PY_V2'\n",
        "  data = 'T;' + debtor + ';' + date +';'+ amount + ';' + currency + ';' + cdtr_acct + ';' + reference + \\\n",
        "  '\\nINV;' + invoice_num +';' + date + ';' + amount + ';' + activity + ';' + description\n",
        "elif (third_party_pype == \"One-Time\")  :\n",
        "  template = 'DEMO_PY_V3';\n",
        "  data = 'T;' + debtor + ';' + date +';'+ amount + ';' + currency + ';' + cdtr_name + ';'\\\n",
        " + cdtr_country + ';' + cdtr_address + ';' + cdtr_acct + ';' + cdtr_bic + ';' + reference + \\\n",
        "'\\nINV;' + invoice_num +';' + date + ';' + amount + ';' + activity + ';' + description\n",
        "\n",
        "filename = dt_string + '-test.txt'\n",
        "\n",
        "#Import payment\n",
        "response=sample_requests.import_data(token,data,filename,template,True,traces)\n",
        "\n",
        "get_status = sample_requests.get_results(token, '/v1/payment/transfers/status?filter=reference==' + reference)\n",
        "status = js.loads(get_status)[\"results\"][0][\"status\"]\n",
        "print()\n",
        "print(\"Payment with reference \" + reference + \" created and with status \" + status) "
      ]
    },
    {
      "cell_type": "markdown",
      "source": [
        "## <font color='yellow'>Manage attachment</font>"
      ],
      "metadata": {
        "id": "uUq7TWFQSa8V"
      }
    },
    {
      "cell_type": "code",
      "execution_count": null,
      "metadata": {
        "id": "vOxgaSjHDM5f",
        "cellView": "form"
      },
      "outputs": [],
      "source": [
        "#@title Upload the invoice in Kyriba\n",
        "\n",
        "pdf_file = open(invoice, 'rb')\n",
        "# Transform to binary\n",
        "binary_file_data = pdf_file.read()\n",
        "\n",
        "payload={}\n",
        "files=[\n",
        "  ('file0', (invoice, binary_file_data, 'multipart/form-data'))\n",
        "]\n",
        "\n",
        "result = sample_requests.post_results(token,\"/v1/data/files\", payload, files)\n",
        "fileId = result[0]['fileId']\n",
        "\n",
        "print(\"Invoice \" + invoice + \" uploaded into Kyriba\")"
      ]
    },
    {
      "cell_type": "code",
      "execution_count": null,
      "metadata": {
        "id": "J6_WcpzMA6x3",
        "cellView": "form"
      },
      "outputs": [],
      "source": [
        "#@title Attach the invoice to the Payment\n",
        "payload = '[\" '+ fileId +' \"]'\n",
        "\n",
        "post_response = sample_requests.post_results(token,\"/v1/attachments/attach/TRANSFER?filter=reference==\" + reference,payload,{},headers= {'content-type':'application/json'})\n",
        "\n",
        "print(invoice + \" attached to payment with reference \" + reference)"
      ]
    }
  ]
}