{
  "nbformat": 4,
  "nbformat_minor": 5,
  "metadata": {
    "kernelspec": {
      "name": "python392jvsc74a57bd03f9257db2e31e76692c2de4df3656be918ff801df539e70a5a7745bf4e7f22ae",
      "display_name": "Python 3.9.2 64-bit"
    },
    "language_info": {
      "codemirror_mode": {
        "name": "ipython",
        "version": 3
      },
      "file_extension": ".py",
      "mimetype": "text/x-python",
      "name": "python",
      "nbconvert_exporter": "python",
      "pygments_lexer": "ipython3",
      "version": "3.9.2"
    },
    "colab": {
      "provenance": [],
      "collapsed_sections": [
        "4b77b260",
        "144f5fb2"
      ]
    }
  },
  "cells": [
    {
      "cell_type": "markdown",
      "metadata": {
        "id": "TMiZRuJ92bu6"
      },
      "source": [
        "# <font color=yellow> Static Data Synchronisation </font>\n"
      ],
      "id": "TMiZRuJ92bu6"
    },
    {
      "cell_type": "markdown",
      "source": [
        "The Static Data Synchronisation sample outlines the process of seamlessly integrating and synchronizing core data between Kyriba and your system. By leveraging Kyriba's APIs and webhooks, you can establish a reliable connection to facilitate the exchange of static data, ensuring accuracy and consistency across both platforms.<br>\n",
        "\n",
        "For demonstrative purposes, this sample utilizes the \"Third party\" data type.<br>\n",
        "The following actions are showcased:\n",
        "*   Retrieving a list of all third parties.\n",
        "*   Retrieving details of a single third party.\n",
        "*   Creating, Updating, and Deleting a third party.\n",
        "*   Dispatching a Webhook notification once a third party is changed - created, updated, or deleted.\n"
      ],
      "metadata": {
        "id": "TlNSHZlPUnLh"
      },
      "id": "TlNSHZlPUnLh"
    },
    {
      "cell_type": "markdown",
      "metadata": {
        "id": "4b77b260"
      },
      "source": [
        "## <font color='yellow'>Code for token generation and API management</font>\n",
        "      "
      ],
      "id": "4b77b260"
    },
    {
      "cell_type": "code",
      "metadata": {
        "id": "sU-n_nAGaljV",
        "cellView": "form"
      },
      "source": [
        "#@title Select **servicePack** the Sample should run\n",
        "from subprocess import getstatusoutput\n",
        "servicePack = \"DEMO\" #@param ['DEMO'] {allow-input: true}\n",
        "\n",
        "if servicePack == 'DEMO':\n",
        "  branch = 'main'\n",
        "else:\n",
        "  branch = servicePack\n",
        "print(branch)\n",
        "rm = getstatusoutput(\"rm Colab_shared_code_for_API_usage -rf \")\n",
        "clone = getstatusoutput(\"git clone -l -s --branch \" +  branch + \" https://github.com/kyriba/Colab_shared_code_for_API_usage.git\")\n",
        "import importlib\n",
        "try:\n",
        "  importlib.reload(sample_requests)\n",
        "except:\n",
        "  print()\n",
        "from Colab_shared_code_for_API_usage import sample_requests\n"
      ],
      "id": "sU-n_nAGaljV",
      "execution_count": null,
      "outputs": []
    },
    {
      "cell_type": "code",
      "metadata": {
        "id": "31f2f8e5",
        "cellView": "form"
      },
      "source": [
        "#@title Import custom modules\n",
        "import time\n",
        "from datetime import datetime,date\n",
        "import json as js\n",
        "import copy\n",
        "import numpy as np\n"
      ],
      "id": "31f2f8e5",
      "execution_count": null,
      "outputs": []
    },
    {
      "cell_type": "code",
      "source": [
        "#@title Additional functions\n",
        "def show_results(df):\n",
        "  df2 = copy.deepcopy(df)\n",
        "  df2.replace(np.nan, '-', inplace = True)\n",
        "  display(df2)"
      ],
      "metadata": {
        "cellView": "form",
        "id": "AOkcTqZASwP0"
      },
      "id": "AOkcTqZASwP0",
      "execution_count": null,
      "outputs": []
    },
    {
      "cell_type": "markdown",
      "metadata": {
        "id": "144f5fb2"
      },
      "source": [
        "## <font color='yellow'>Connect and  retrieve token</font>"
      ],
      "id": "144f5fb2"
    },
    {
      "cell_type": "code",
      "metadata": {
        "scrolled": false,
        "id": "f0259b5a",
        "cellView": "form"
      },
      "source": [
        "#@title <font color='lime'>Connect</font>\n",
        "print('token:')\n",
        "token = sample_requests.login()"
      ],
      "id": "f0259b5a",
      "execution_count": null,
      "outputs": []
    },
    {
      "cell_type": "markdown",
      "metadata": {
        "id": "cpi7YlcKxc7-"
      },
      "source": [
        "## <font color='yellow'>Third Party provisioning</font>"
      ],
      "id": "cpi7YlcKxc7-"
    },
    {
      "cell_type": "code",
      "source": [
        "#@title <font color='lime'>Retrieve all third parties</font>\n",
        "try:\n",
        "  # get all third parties in json\n",
        "  res2 = sample_requests.get_results(token, '/v1/third-parties?page.limit=1000')\n",
        "  ppjson = js.loads(res2, parse_int=int)\n",
        "  # list of columns to display results from Third Parties\n",
        "  colunmsTP = ['uuid', 'code', 'name', 'creationDate', 'updateDate', 'activeStatus']\n",
        "  # convert json to dataFrame\n",
        "  df2 = sample_requests.pd.json_normalize(ppjson['results']).filter(items=['uuid', 'code', 'name', 'creationDate', 'updateDate', 'activeStatus', 'businessIdentifiers.otherIdentifierType', 'address.country.code'], axis =1)\n",
        "  df2 = df2[colunmsTP]\n",
        "  show_results(df2)\n",
        "except Exception as e:\n",
        "  print('No Third party was found.')"
      ],
      "metadata": {
        "id": "m8BbG97ESW7t",
        "cellView": "form"
      },
      "id": "m8BbG97ESW7t",
      "execution_count": null,
      "outputs": []
    },
    {
      "cell_type": "code",
      "source": [
        "#@title <font color='lime'>Get details about third party by reference</font>\n",
        "ref = '4-PARTY-TEST' #@param {type:\"string\"}\n",
        "#@markdown ****ref***  is the reference (uuid or code) of the third party.\n",
        "# get all third parties in json\n",
        "try:\n",
        "  res2 = sample_requests.get_results(token, '/v1/third-parties/' + ref)\n",
        "  ppjson = js.loads(res2, parse_int=int)\n",
        "  # list of columns to display results from Third Parties\n",
        "  colunmsTP = ['uuid', 'code', 'name', 'hidden', 'creditor', 'debtor', 'nonResident', 'transactionEntryLimit', 'transactionMaxNumber', 'companySelection', 'limitCurrency.code', 'address.country.code']\n",
        "  # convert json to dataFrame\n",
        "  df2 = sample_requests.pd.json_normalize(ppjson)\n",
        "  df2 = df2[colunmsTP]\n",
        "  show_results(df2)\n",
        "except:\n",
        "  print()\n"
      ],
      "metadata": {
        "id": "slfiX2PU4NZe",
        "cellView": "form"
      },
      "id": "slfiX2PU4NZe",
      "execution_count": null,
      "outputs": []
    },
    {
      "cell_type": "code",
      "metadata": {
        "id": "3OgMivFo2bvB",
        "cellView": "form"
      },
      "source": [
        "#@title <font color='lime'> Create a third party</font>\n",
        "#@markdown Provide values for parameters below:\n",
        "code = '3-PARTY-TEST' #@param {type:\"string\"}\n",
        "addressCountryCode = 'GB' #@param ['FR', 'GB', 'GG', 'JP', 'PL', 'SG', 'US'] {allow-input: true}\n",
        "name = 'Name' #@param {type: \"string\"}\n",
        "\n",
        "checker = 'false'\n",
        "\n",
        "payload = sample_requests.js.dumps({\n",
        "  \"code\": code,\n",
        "  \"address\": {\n",
        "    \"country\": {\n",
        "      \"code\": addressCountryCode\n",
        "    }\n",
        "  },\n",
        "  \"name\": name\n",
        "})\n",
        "\n",
        "#print(payload)\n",
        "\n",
        "try:\n",
        "  res2 = sample_requests.post_results(token, '/v1/third-parties', payload, {}, {'Content-Type': 'application/json'})\n",
        "  print(res2)\n",
        "  try:\n",
        "    if res2['code'] == code:\n",
        "      checker = 'true'\n",
        "      print('\\nThird party ' + code + ' was succesfully created in Kyriba.')\n",
        "      print()\n",
        "      # print(res2)\n",
        "  except:\n",
        "    print()\n",
        "    # print('Error')\n",
        "    print(\"\\nThird party \" + code + \" could not be created in Kyriba.\")\n",
        "except sample_requests.ResponceError as err:\n",
        "  print('Third party ' + code + ' could not be created in Kyriba.')\n",
        "print()\n",
        "print()"
      ],
      "id": "3OgMivFo2bvB",
      "execution_count": null,
      "outputs": []
    },
    {
      "cell_type": "code",
      "source": [
        "#@title <font color='lime'> Update a third party</font>\n",
        "#@markdown Provide values for parameters below:\n",
        "ref = '3-PARTY-TEST' #@param {type:\"string\"}\n",
        "name = 'New Name' #@param {type: \"string\"}\n",
        "addressCountryCode = 'FR' #@param ['FR', 'GB', 'GG', 'JP', 'PL', 'SG', 'US'] {allow-input: true}\n",
        "checker = 'false'\n",
        "#@markdown ****ref***  is the reference (uuid or code) of the third party.\n",
        "try:\n",
        "  third_party_to_update = sample_requests.get_results(token, '/v1/third-parties/' + ref)\n",
        "  third_party_to_update = js.loads(third_party_to_update)\n",
        "  # print(sample_requests.pp_json(third_party_to_update))\n",
        "  third_party_to_update['name'] = name\n",
        "  third_party_to_update['address']['country']['code'] = addressCountryCode\n",
        "  third_party_to_update.pop('internalCounter')\n",
        "  third_party_to_update.pop('internalCounterSuffix')\n",
        "  third_party_to_update['address']['country'].pop('uuid')\n",
        "  updated_third_party = sample_requests.put_results(token, '/v1/third-parties/' + ref, sample_requests.js.dumps(third_party_to_update), {}, {'Content-Type': 'application/json'})\n",
        "  if updated_third_party['uuid'] == ref or updated_third_party['code'] == ref:\n",
        "      checker = 'true'\n",
        "      print('\\nThird party ' + ref + ' was succesfully updated in Kyriba.')\n",
        "      print()\n",
        "      print(updated_third_party)\n",
        "except Exception as err:\n",
        "  print('Third party ' + ref + ' could not be updated.')\n",
        "print()\n",
        "print()"
      ],
      "metadata": {
        "id": "WUt_q--FTqxg",
        "cellView": "form"
      },
      "id": "WUt_q--FTqxg",
      "execution_count": null,
      "outputs": []
    },
    {
      "cell_type": "code",
      "source": [
        "#@title <font color='lime'> Delete a third party</font>\n",
        "#@markdown Provide the reference of third party to delete:\n",
        "ref = '3-PARTY-TEST' #@param {type:\"string\"}\n",
        "#@markdown ****ref***  is the reference (uuid or code) of the third party.\n",
        "checker = 'false'\n",
        "\n",
        "try:\n",
        "  deleted_third_party = sample_requests.delete_results(token, '/v1/third-parties/' + ref, {'Content-Type': 'application/json'})\n",
        "  try:\n",
        "    if deleted_third_party['uuid'] == ref or deleted_third_party['code'] == ref:\n",
        "      checker = 'true'\n",
        "      print('\\nThird party ' + ref + ' was succesfully deleted in Kyriba.')\n",
        "      print()\n",
        "      print(deleted_third_party)\n",
        "  except:\n",
        "    print()\n",
        "    # print('Error')\n",
        "    print(\"\\nThird party \" + ref + \" could not be deleted.\")\n",
        "except Exception as err:\n",
        "  print('Third party ' + ref + ' could not be deleted.')\n",
        "print()\n",
        "print()"
      ],
      "metadata": {
        "id": "4hCsxFs3huQG",
        "cellView": "form"
      },
      "id": "4hCsxFs3huQG",
      "execution_count": null,
      "outputs": []
    },
    {
      "cell_type": "markdown",
      "source": [
        "## <font color='yellow'>Third Party synchronisation</font>\n",
        "There are two ways to synchronise core data:\n",
        "* Configure Webhook notifications (if available for a given data type) that are sent by Kyriba once a change has occured.\n",
        "* Poll Kyriba APIs utilizing creation or update date filters.\n"
      ],
      "metadata": {
        "id": "Z6K-XYiRagoD"
      },
      "id": "Z6K-XYiRagoD"
    },
    {
      "cell_type": "code",
      "source": [
        "#@title <font color='lime'> Run Webhook dashboard <font>\n",
        "\n",
        "#@markdown With Webhooks, you will receive a notification for any change (creation, modification, deletion) of your third parties.\n",
        "\n",
        "#@markdown Run the block to display the Webhook dashboard which demonstrates how the Webhook notifications look like.\n",
        "#@markdown This is the place where notifications are sent for the purpose of this sample.\\\n",
        "#@markdown Its left side - the \"Messages\" section - represents a list of received notifications.\n",
        "#@markdown Once a notification from the list is selected, the middle part of the dashboard will display the notification details. Go to the \"Request Body\" section to see the API request received.\n",
        "\n",
        "#@markdown #![Screenshot 2023-09-08 at 17.50.56.png](data:image/png;base64,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)\n",
        "\n",
        "from IPython.display import IFrame\n",
        "\n",
        "IFrame(src='https://play.svix.com/view/e_wdUPMbdZ1RpJnt0FaltbHlqxXCI/', width=1000, height=600)"
      ],
      "metadata": {
        "id": "Qbic_B8ek0AB",
        "cellView": "form"
      },
      "execution_count": null,
      "outputs": [],
      "id": "Qbic_B8ek0AB"
    },
    {
      "cell_type": "code",
      "source": [
        "#@title <font color='lime'>Show created and updated third parties</font>\n",
        "creationDate = '2023-05-11' #@param {type:\"date\"}\n",
        "creationFilter = 'Equals' #@param ['Equals', 'Greather than', 'Greater Equal than'] {type: \"string\"}\n",
        "updateDate = '2023-05-11' #@param {type:\"date\"}\n",
        "updateFilter = 'Equals' #@param ['Equals', 'Greather than', 'Greater Equal than'] {type: \"string\"}\n",
        "#@markdown\n",
        "showResults = 'Only created' #@param ['Only created', 'All modified', 'Created and modified']\n",
        "\n",
        "if updateFilter == 'Equals':\n",
        "  updateFilter = '='\n",
        "elif updateFilter == 'Greather than':\n",
        "  updateFilter = '=gt'\n",
        "elif updateFilter == 'Greater Equal than':\n",
        "  updateFilter = '=ge'\n",
        "\n",
        "if creationFilter == 'Equals':\n",
        "  creationFilter = '='\n",
        "elif creationFilter == 'Greather than':\n",
        "  creationFilter = '=gt'\n",
        "elif creationFilter == 'Greater Equal than':\n",
        "  creationFilter = '=ge'\n",
        "\n",
        "create_filter = 'creationDate' + creationFilter + '=' + creationDate\n",
        "update_filter = 'updateDate' + updateFilter + '=' + updateDate\n",
        "if showResults == 'Only created':\n",
        "  filter = create_filter + ';updateDate==null'\n",
        "elif showResults == 'All modified':\n",
        "  filter = update_filter\n",
        "else:\n",
        "  filter = create_filter + ',' + update_filter\n",
        "# print(filter)\n",
        "try:\n",
        "  # get all third parties in json\n",
        "  res2 = sample_requests.get_results(token, '/v1/third-parties?filter=' + filter)\n",
        "  ppjson = js.loads(res2, parse_int=int)\n",
        "  # list of columns to display results from Third Parties\n",
        "  colunmsTP = ['uuid', 'code', 'name', 'creationDate', 'updateDate', 'activeStatus']\n",
        "  # convert json to dataFrame\n",
        "  df2 = sample_requests.pd.json_normalize(ppjson['results']).filter(items=['uuid', 'code', 'name', 'creationDate', 'updateDate', 'activeStatus', 'businessIdentifiers.otherIdentifierType', 'address.country.code'], axis =1)\n",
        "  df2 = df2[colunmsTP]\n",
        "\n",
        "  show_results(df2)\n",
        "except Exception as e:\n",
        "  print('No Third party with applied filter was found.')\n",
        "\n"
      ],
      "metadata": {
        "cellView": "form",
        "id": "SnxwXPbrk832"
      },
      "id": "SnxwXPbrk832",
      "execution_count": null,
      "outputs": []
    },
    {
      "cell_type": "code",
      "source": [
        "#@title <font color='lime'> Show deleted third parties</font>\n",
        "#@markdown There isn't an endpoint to retrieve deleted third parties. To detect those deleted ones, perform LIST without filter and compare the total result with the ones you have. If there is a mismatch, then look for the difference in uuids."
      ],
      "metadata": {
        "cellView": "form",
        "id": "Ld4xoTwik_Aj"
      },
      "id": "Ld4xoTwik_Aj",
      "execution_count": null,
      "outputs": []
    }
  ]
}