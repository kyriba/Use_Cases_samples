{
  "cells": [
    {
      "cell_type": "markdown",
      "metadata": {
        "id": "jVMiCZgcvSKS"
      },
      "source": [
        "\n",
        "### Kyriba Open Report Studio\n",
        "\n",
        "We expect that the user will build a report in excel with the desired visual output and all intermediate computation\n",
        "\n",
        "Data From Kyriba Standard reports will be stored in each dedicated sheet\n",
        "Sheet will be named \"KYR xxxx\" where xxx is the PT name defined in Kyriba\n",
        "Ouput of each PT need to be set as xlxs in Kyriba\n",
        "\n",
        "To run:\n",
        "- Upload config.csv containing API credentials on the left side (Files icon)\n",
        "- Go in the menu Runtime -> Run All\n",
        "- Drag and drop or upload the excel template (the code will pause until a file is uploaded)\n",
        "- Each PT wil executed \n",
        "- Excel will generated from the template, with each PT tabs refreshed\n",
        "- Report will be generated and automatically downloaded\n",
        "\n",
        "\n"
      ]
    },
    {
      "cell_type": "markdown",
      "metadata": {
        "id": "aQX0AE0YjA6J"
      },
      "source": [
        "## <font color='yellow'>Code for token generation and API management </font>\n"
      ]
    },
    {
      "cell_type": "code",
      "execution_count": null,
      "metadata": {
        "cellView": "form",
        "id": "Eal3tMbMjA6J"
      },
      "outputs": [],
      "source": [
        "#@title Select **servicePack** the Sample should run\n",
        "from subprocess import getstatusoutput\n",
        "servicePack = \"binary_status\" #@param ['DEMO'] {allow-input: true}\n",
        "\n",
        "if servicePack == 'DEMO':\n",
        "  branch = 'main'\n",
        "else:\n",
        "  branch = servicePack\n",
        "print(branch)\n",
        "rm = getstatusoutput(\"rm Colab_shared_code_for_API_usage -rf \") \n",
        "clone = getstatusoutput(\"git clone -l -s --branch \" +  branch + \" https://github.com/kyriba/Colab_shared_code_for_API_usage.git\") \n",
        "import importlib\n",
        "\n",
        "enableFormatterDF = True #@param {type:\"boolean\"}\n",
        "from google.colab import data_table\n",
        "\n",
        "if enableFormatterDF is True:\n",
        "  data_table.enable_dataframe_formatter()\n",
        "else:\n",
        "  data_table.disable_dataframe_formatter()\n",
        "\n",
        "try:  \n",
        "  importlib.reload(sample_requests)\n",
        "except:\n",
        "  print()\n",
        "from Colab_shared_code_for_API_usage import sample_requests"
      ]
    },
    {
      "cell_type": "code",
      "execution_count": null,
      "metadata": {
        "cellView": "form",
        "id": "niESgFzFjA6K"
      },
      "outputs": [],
      "source": [
        "#@title Import custom modules\n",
        "import pandas as pd\n",
        "from io import StringIO\n",
        "import os, sys\n",
        "from google.colab import files\n",
        "import json as js\n",
        "from zipfile import ZipFile\n",
        "import time , requests, os.path, openpyxl , os, glob\n",
        "from datetime import datetime\n",
        "import copy\n",
        "from openpyxl.utils import get_column_letter\n",
        "from openpyxl.styles import  PatternFill, Font,  Alignment"
      ]
    },
    {
      "cell_type": "markdown",
      "metadata": {
        "id": "e0Qk0kI5q1zI"
      },
      "source": [
        "## <font color='yellow'>Connect and retrieve token</font>"
      ]
    },
    {
      "cell_type": "code",
      "execution_count": null,
      "metadata": {
        "id": "Jrg7fp1lisTR",
        "scrolled": false
      },
      "outputs": [],
      "source": [
        "#@title <font color='lime'>Connect</font>\n",
        "print('token:')\n",
        "token = sample_requests.login()"
      ]
    },
    {
      "cell_type": "markdown",
      "metadata": {
        "id": "lHWBUY9hp8TR"
      },
      "source": [
        "## <font color='yellow'>Code for generating PTs </font>\n"
      ]
    },
    {
      "cell_type": "code",
      "execution_count": null,
      "metadata": {
        "cellView": "form",
        "id": "EFMYg72ksM1Q"
      },
      "outputs": [],
      "source": [
        "#@title List of Process Templates listed in the excel file\n",
        " #Load and get Sheet'names from Report Template\n",
        "\n",
        "uploaded = files.upload()\n",
        "for fn in uploaded.keys():\n",
        "  new_template = fn\n",
        "  \n",
        "wb_load = openpyxl.load_workbook(new_template)\n",
        "list_of_sheets = wb_load.sheetnames\n",
        "\n",
        " #Scan name of Sheets\n",
        "match_words = [s for s in list_of_sheets if \"KYR\" in s]\n",
        "\n",
        " #Get template corespond with KYR\n",
        "new_list = [s.replace(\"KYR \", \"\") for s in match_words]\n",
        "print (\"List of template: \")\n",
        "i = 0\n",
        "while i < len(new_list):\n",
        "    w= new_list[i]\n",
        "    print (w)\n",
        "    i += 1"
      ]
    },
    {
      "cell_type": "code",
      "execution_count": null,
      "metadata": {
        "cellView": "form",
        "id": "-1oA4MalPcgc"
      },
      "outputs": [],
      "source": [
        "#@title Process Templates generator { form-width: \"20%\" }\n",
        "Stat_data = []\n",
        "\n",
        "#Loop to generate PTs\n",
        "i = 0\n",
        "while i < len(new_list):\n",
        "    ws = new_list[i] \n",
        "\n",
        "    Reportfile = \"KYR \"+ ws +\".xlsx\";\n",
        "    start_time= time.time()\n",
        "#Run KYR and get Task Id\n",
        "    response = sample_requests.run_report(token, ws, False, 'binary', True)\n",
        "\n",
        "    #No response returned \n",
        "    if not (response):\n",
        "      print('Process Template', ws, \"not found\", '\\n')        \n",
        "      Stat_data.append([ws,\"Not Found\",format(time.time() - start_time, \".0f\")])\n",
        "    \n",
        "    else: \n",
        "      status = response.status\n",
        "      \n",
        "      if status == \"Complete\":\n",
        "        Stat_data.append([ws,status,format(time.time() - start_time, \".0f\")])\n",
        "        print(\"\\r\",\"Generating file\", ws , \".\", \"Task status :\", status,\".\",\"Time elapsed in seconds :\",  format(time.time() - start_time, \".0f\"),\".\",end=\"\")\n",
        "        time.sleep(2)\n",
        "\n",
        "        #Get file content\n",
        "        content = response.content\n",
        "        print(\"\\r\",\"Generating file\", ws ,\".\" ,\"Task status :\", status)\n",
        "    \n",
        "        with open(Reportfile,'wb') as export: ## Open temporary file as bytes\n",
        "          export.write(content)\n",
        "          print(\"\\r\", \"This content will be ready shortly.\", '\\n')\n",
        "\n",
        "      else:  \n",
        "        print(\"\\r\",\"File\",Reportfile,\"not created.\",\"Status:\", status)\n",
        "        Stat_data.append([ws,status,format(time.time() - start_time, \".0f\")])\n",
        "      time.sleep(2)\n",
        "\n",
        "    i +=1\n",
        "\n",
        "# Create Status Sheet\n",
        "E_status = pd.DataFrame(Stat_data, columns = [\"Process Name\",\"Status\", \"Execution Time\"], index = None)\n",
        "getdf= pd.DataFrame(E_status).to_excel('Execution Status.xlsx', index = False)\n",
        "\n",
        "stat_wb = openpyxl.load_workbook('Execution Status.xlsx')\n",
        "stat_ws = stat_wb['Sheet1']\n",
        "stat_ws.column_dimensions['A'].width = 25\n",
        "stat_ws.column_dimensions['B'].width = 20\n",
        "stat_ws.column_dimensions['C'].width = 25\n",
        "\n",
        "for c in stat_ws[\"1:1\"]:\n",
        "  c.alignment = Alignment(horizontal='center')\n",
        "\n",
        "  c.font = Font(size=15, bold=True, color = '00FFFFFF' )\n",
        "  c.fill = PatternFill(\"solid\", fgColor = \"000066CC\")\n",
        "\n",
        "stat_wb.save('Execution Status.xlsx')\n",
        "match_words.append('Execution Status.xlsx')\n",
        "\n"
      ]
    },
    {
      "cell_type": "code",
      "execution_count": null,
      "metadata": {
        "cellView": "form",
        "id": "v7p5S6EEifNJ"
      },
      "outputs": [],
      "source": [
        "#@title Clean report file for new PT\n",
        "# delete old PT in Main Report\n",
        "wb_del = openpyxl.load_workbook(new_template)\n",
        "\n",
        "for sheetName in wb_del.sheetnames:\n",
        "    if sheetName  in match_words :\n",
        "        del wb_del[sheetName]\n",
        "wb_del.save(new_template)"
      ]
    },
    {
      "cell_type": "code",
      "execution_count": null,
      "metadata": {
        "cellView": "form",
        "id": "2e_UWCFH-i3n"
      },
      "outputs": [],
      "source": [
        "#@title Change name of template with date ( refresh content or wait for the name to change before merging PTs)\n",
        "master_file = new_template\n",
        "temp_change = master_file.replace('.xlsx', '')\n",
        "now = datetime.now()\n",
        "dt_string = now.strftime(\"%Y%m%d_%H%M\")\n",
        "new_name = (temp_change +'_' + dt_string + '.xlsx')\n",
        "\n",
        "file_out = os.rename(master_file,new_name)"
      ]
    },
    {
      "cell_type": "code",
      "execution_count": null,
      "metadata": {
        "cellView": "form",
        "id": "Hygdlj9BfjlU"
      },
      "outputs": [],
      "source": [
        "#@title Merging PTs to Report\n",
        "path = os.getcwd()\n",
        "files_dir = os.listdir(path)\n",
        "\n",
        "files_PT = [f for f in files_dir if \"KYR\" in f]\n",
        "\n",
        "files_PT.append('Execution Status.xlsx')\n",
        "\n",
        "files_PT\n",
        "p =0\n",
        "while p < len(files_PT):\n",
        "  l = files_PT[p]\n",
        "  l_ws = [sheet.title for sheet in l]\n",
        "  sheet_N = l.replace('.xlsx', '')\n",
        "\n",
        "  wb = openpyxl.load_workbook(l)\n",
        "  wb2 = openpyxl.load_workbook(new_name)\n",
        "\n",
        "  sheetnames = wb.sheetnames\n",
        "  for sheetname in sheetnames:\n",
        "      print(\"Merging\", sheet_N, \"to Report\")\n",
        "      sheet = wb[sheetname]\n",
        "      sheet2 = wb2.create_sheet(sheet_N)\n",
        "\n",
        "# Color format\n",
        "      sheet2.sheet_properties.tabColor = sheet.sheet_properties.tabColor\n",
        "\n",
        "#Match cells between 2 sheets and merge.\n",
        "      wm = list(sheet.merged_cells)\n",
        "      if len(wm) > 0:\n",
        "          for i in range(0, len(wm)):\n",
        "              cell2 = str(wm[i]).replace('(<CellRange ', '').replace('>,)', '')\n",
        "              sheet2.merge_cells(cell2)\n",
        "\n",
        "      for i, row in enumerate(sheet.iter_rows()):\n",
        "          sheet2.row_dimensions[i+1].height = sheet.row_dimensions[i+1].height\n",
        "          for j, cell in enumerate(row):\n",
        "              sheet2.column_dimensions[get_column_letter(j+1)].width = sheet.column_dimensions[get_column_letter(j+1)].width\n",
        "              sheet2.cell(row=i + 1, column=j + 1, value=cell.value)\n",
        "\n",
        "# Match the cell style\n",
        "              source_cell = sheet.cell(i+1, j+1)\n",
        "              target_cell = sheet2.cell(i+1, j+1)\n",
        "              target_cell.fill = copy.copy(source_cell.fill)\n",
        "              if source_cell.has_style:\n",
        "                  target_cell._style = copy.copy(source_cell._style)\n",
        "                  target_cell.font = copy.copy(source_cell.font)\n",
        "                  target_cell.border = copy.copy(source_cell.border)\n",
        "                  target_cell.fill = copy.copy(source_cell.fill)\n",
        "                  target_cell.number_format = copy.copy(source_cell.number_format)\n",
        "                  target_cell.protection = copy.copy(source_cell.protection)\n",
        "                  target_cell.alignment = copy.copy(source_cell.alignment)\n",
        "\n",
        "  \n",
        "  wb2.save(new_name)\n",
        "  wb.close()\n",
        "  wb2.close()\n",
        "\n",
        "  p +=1\n",
        "\n",
        "print('Merging process completed. Final report is ready and will be downloaded automatically.')\n",
        "print ( \"The process costed : \",format(time.time() - start_time, \".0f\"),\" seconds\" )\n",
        "files.download (new_name)"
      ]
    }
  ],
  "metadata": {
    "colab": {
      "collapsed_sections": [
        "e0Qk0kI5q1zI"
      ],
      "provenance": []
    },
    "kernelspec": {
      "display_name": "Python 3",
      "name": "python3"
    },
    "language_info": {
      "name": "python"
    }
  },
  "nbformat": 4,
  "nbformat_minor": 0
}