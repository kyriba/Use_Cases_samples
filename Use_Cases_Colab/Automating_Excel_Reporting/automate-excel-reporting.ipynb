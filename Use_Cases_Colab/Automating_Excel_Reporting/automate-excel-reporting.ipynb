{
  "nbformat": 4,
  "nbformat_minor": 0,
  "metadata": {
    "colab": {
      "name": "Kyriba Open Report Studio MVP (PoC) v1.ipynb",
      "provenance": [
        
      ],
      "collapsed_sections": [
        
      ]
    },
    "kernelspec": {
      "name": "python3",
      "display_name": "Python 3"
    },
    "language_info": {
      "name": "python"
    }
  },
  "cells": [
    {
      "cell_type": "markdown",
      "source": [
        "\n",
        "### Kyriba Open Report Studio PoC\n",
        "\n",
        "We expect that the user will build a report in excel with the desired visual output and all intermediate computation\n",
        "\n",
        "Data From Kyriba Standard reports will be stored in each dedicated sheet\n",
        "Sheet will be named \"KYR xxxx\" where xxx is the PT name defined in Kyriba\n",
        "Ouput of each PT need to be set as xlxs in Kyriba\n",
        "\n",
        "To run:\n",
        "- Upload config.csv containing API credentials on the left side (Files icon)\n",
        "- Go in the menu Runtime -> Run All\n",
        "- Drag and drop or upload the excel template (the code will pause until a file is uploaded)\n",
        "- Each PT wil executed \n",
        "- Excel will generated from the template, with each PT tabs refreshed\n",
        "- Report will be generated and automatically downloaded\n",
        "\n",
        "\n"
      ],
      "metadata": {
        "id": "jVMiCZgcvSKS"
      }
    },
    {
      "cell_type": "markdown",
      "metadata": {
        "id": "LE9Odqrou2oJ"
      },
      "source": [
        "## <font color='red'>Code for token generation and API management </font>\n",
        "\n",
        "\n",
        "\n"
      ]
    },
    {
      "cell_type": "code",
      "metadata": {
        "id": "qIh9BI4ZVF8d",
        "colab": {
          "base_uri": "https://localhost:8080/"
        },
        "outputId": "1c8698a8-7b41-484b-c475-fa178660d663"
      },
      "source": [
        "#@title Select **servicePack** the Sample should run\n",
        "from subprocess import getstatusoutput\n",
        "servicePack = \"DEMO\" #@param ['DEMO', '22SP9', '22SP8', '22SP7'] {allow-input: true}\n",
        "\n",
        "if servicePack == 'DEMO':\n",
        "  branch = 'main'\n",
        "else:\n",
        "  branch = servicePack\n",
        "print(branch)\n",
        "rm = getstatusoutput(\"rm Colab_shared_code_for_API_usage -rf \") \n",
        "clone = getstatusoutput(\"git clone -l -s --branch \" +  branch + \" https://github.com/kyriba/Colab_shared_code_for_API_usage.git\") \n",
        "import importlib\n",
        "\n",
        "enableFormatterDF = True #@param {type:\"boolean\"}\n",
        "from google.colab import data_table\n",
        "\n",
        "if enableFormatterDF is True:\n",
        "  data_table.enable_dataframe_formatter()\n",
        "else:\n",
        "  data_table.disable_dataframe_formatter()\n",
        "\n",
        "try:  \n",
        "  importlib.reload(sample_requests)\n",
        "except:\n",
        "  print()\n",
        "from Colab_shared_code_for_API_usage import sample_requests"
      ],
      "execution_count": 1,
      "outputs": [
        {
          "output_type": "stream",
          "name": "stdout",
          "text": [
            "main\n",
            "\n"
          ]
        }
      ]
    },
    {
      "cell_type": "code",
      "metadata": {
        "id": "AdS3jgyznvbo",
        "cellView": "form"
      },
      "source": [
        "#@title Import custom modules\n",
        "import pandas as pd\n",
        "from io import StringIO\n",
        "from google.colab import files\n",
        "import json as js\n",
        "from zipfile import ZipFile\n",
        "import time , requests, os.path, openpyxl , os, glob\n",
        "from datetime import datetime\n",
        "import copy\n",
        "from openpyxl.utils import get_column_letter\n",
        "from openpyxl.styles import  PatternFill, Font,  Alignment"
      ],
      "execution_count": 2,
      "outputs": [
        
      ]
    },
    {
      "cell_type": "code",
      "metadata": {
        "scrolled": false,
        "id": "f0259b5a",
        "cellView": "form",
        "colab": {
          "base_uri": "https://localhost:8080/"
        },
        "outputId": "fe3d4e1c-265e-4d89-c8a0-e7ac1593209f"
      },
      "source": [
        "#@title <font color='lime'>Connect and get token</font>\n",
        "print('token:')\n",
        "token = sample_requests.login()\n"
      ],
      "execution_count": 3,
      "outputs": [
        {
          "output_type": "stream",
          "name": "stdout",
          "text": [
            "token:\n",
            "6af8f48e-a4f6-4955-a81d-45bc5c0f51eb\n"
          ]
        }
      ]
    },
    {
      "cell_type": "markdown",
      "source": [
        
      ],
      "metadata": {
        "id": "RnUwZscFr9wp"
      }
    },
    {
      "cell_type": "code",
      "source": [
        "#@title List of Process Templates listed in the excel file\n",
        " #Load and get Sheet'names from Report Template\n",
        "\n",
        "uploaded = files.upload()\n",
        "for fn in uploaded.keys():\n",
        "  new_template = fn\n",
        "  \n",
        "wb_load = openpyxl.load_workbook(new_template)\n",
        "list_of_sheets = wb_load.sheetnames\n",
        "\n",
        " #Scan name of Sheets\n",
        "match_words = [s for s in list_of_sheets if \"KYR\" in s]\n",
        "\n",
        " # Get tempalte corespond with KYR\n",
        "new_list = [s.replace(\"KYR \", \"\") for s in match_words]\n",
        "print (\"List of template: \")\n",
        "i = 0\n",
        "while i < len(new_list):\n",
        "    w= new_list[i]\n",
        "    print (w)\n",
        "    i += 1"
      ],
      "metadata": {
        "id": "EFMYg72ksM1Q",
        "cellView": "form",
        "colab": {
          "resources": {
            "http://localhost:8080/nbextensions/google.colab/files.js": {
              "data": "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",
              "ok": true,
              "headers": [
                [
                  "content-type",
                  "application/javascript"
                ]
              ],
              "status": 200,
              "status_text": ""
            }
          },
          "base_uri": "https://localhost:8080/",
          "height": 182
        },
        "outputId": "f1ab66c5-5d43-4f0a-a150-89bcd9b7b9f0"
      },
      "execution_count": 4,
      "outputs": [
        {
          "output_type": "display_data",
          "data": {
            "text/plain": [
              "<IPython.core.display.HTML object>"
            ],
            "text/html": [
              "\n",
              "     <input type=\"file\" id=\"files-1b87d4f9-da0a-4250-a2fe-36bcf42e0f3f\" name=\"files[]\" multiple disabled\n",
              "        style=\"border:none\" />\n",
              "     <output id=\"result-1b87d4f9-da0a-4250-a2fe-36bcf42e0f3f\">\n",
              "      Upload widget is only available when the cell has been executed in the\n",
              "      current browser session. Please rerun this cell to enable.\n",
              "      </output>\n",
              "      <script src=\"/nbextensions/google.colab/files.js\"></script> "
            ]
          },
          "metadata": {
            
          }
        },
        {
          "output_type": "stream",
          "name": "stdout",
          "text": [
            "Saving UseCase Template.xlsx to UseCase Template (1).xlsx\n",
            "List of template: \n",
            "DEMOREPORT1\n",
            "DEMOREPORT2\n",
            "DEMOREPORT3\n",
            "NoData\n",
            "ET\n"
          ]
        }
      ]
    },
    {
      "cell_type": "markdown",
      "source": [
        "## <font color='red'>Code for generating PTs </font>\n"
      ],
      "metadata": {
        "id": "lHWBUY9hp8TR"
      }
    },
    {
      "cell_type": "code",
      "source": [
        "#@title Process Templates generator { form-width: \"20%\" }\n",
        "\n",
        "\n",
        "platform = \"demo.kyriba.com\" #@param [\"demo.kyriba.com\", \"gemini.proto.cloud.kyriba.com\", \"leo.proto.cloud.kyriba.com\", \"ruby-preprod.treasury-factory.com\", \"ruby-sandbox.treasury-factory.com\", \"ruby.treasury-factory.com\", \"sapphire-preprod.treasury-factory.com\", \"sapphire-sandbox.treasury-factory.com\", \"sapphire.treasury-factory.com\", \"topaz-preprod.treasury-factory.com\", \"topaz-sandbox.treasury-factory.com\", \"topaz.treasury-factory.com\", \"emerald-preprod.treasury-factory.com\", \"emerald-sandbox.treasury-factory.com\", \"emerald.treasury-factory.com\", \"diamond-preprod.treasury-factory.com\", \"diamond-sandbox.treasury-factory.com\", \"diamond.treasury-factory.com\", \"opal-preprod.treasury-factory.com\", \"opal-sandbox.treasury-factory.com\", \"opal.treasury-factory.com\"]\n",
        "baseURL = 'https://{}/gateway/api'.format(platform);\n",
        "\n",
        "\n",
        "Stat_data = []\n",
        "\n",
        "#Loop to generate PTs\n",
        "i = 0\n",
        "while i < len(new_list):\n",
        "    w= new_list[i] \n",
        "\n",
        "    Reportfile = \"KYR \"+ w +\".xlsx\";\n",
        "    start_time= time.time()\n",
        "#Run KYR and get Task Id \n",
        "    response = sample_requests.post_results(token,\"/v1/process-templates/\"+ w +\"/run\",{},{})\n",
        "\n",
        "#No response returned \n",
        "    if not (response):\n",
        "      print('Process Template', w, \"not found\")        \n",
        "      Stat_data.append([w,\"Not Found\",format(time.time() - start_time, \".0f\")])\n",
        "    \n",
        "    else: \n",
        "\n",
        "# taskId returned\n",
        "      taskId = response[0]['taskId']\n",
        "          \n",
        "#Run PT and get task status\n",
        "      url = \"/v1/process-templates/\"+taskId+\"/status\"\n",
        "      time.sleep(2)\n",
        "      response = sample_requests.get_results(token, url)   \n",
        "      status = js.loads(response)['status']\n",
        "     \n",
        "      \n",
        "\n",
        "      if status == \"Complete\":\n",
        "        Stat_data.append([w,status,format(time.time() - start_time, \".0f\")])\n",
        "        print(\"\\r\",\"Generating file\", w , \".\", \"Task status :\", status,\".\",\"Time elapsed in seconds :\",  format(time.time() - start_time, \".0f\"),\".\",end=\"\")\n",
        "\n",
        "#Run PT and get file content\n",
        "        url = baseURL + \"/v1/process-templates/\"+w+\"/files?taskId=\"+taskId\n",
        "        headers = {\n",
        "        'Authorization': 'Bearer '+token\n",
        "  }\n",
        "        response = requests.get(url, headers=headers, data={})\n",
        "        print(\"\\r\",\"Generating file\", w ,\".\" ,\"Task status :\", status)\n",
        "\n",
        "        with open(Reportfile,'wb') as export: ## Open temporary file as bytes\n",
        "          export.write(response.content)\n",
        "          print(\"\\r\", \"This content will be ready shortly.\")\n",
        "      else:  \n",
        "        print(\"\\r\",\"File\",Reportfile,\"not created.\",\"Status:\", status)\n",
        "        Stat_data.append([w,status,format(time.time() - start_time, \".0f\")])\n",
        "      time.sleep(2)\n",
        "     \n",
        "    i +=1\n",
        "\n",
        "# Create Status Sheet\n",
        "E_status = pd.DataFrame(Stat_data, columns = [\"Process Name\",\"Status\", \"Execution Time\"], index = None)\n",
        "getdf= pd.DataFrame(E_status).to_excel('Execution Status.xlsx', index =False)\n",
        "\n",
        "\n",
        "\n",
        "stat_wb = openpyxl.load_workbook('Execution Status.xlsx')\n",
        "stat_ws = stat_wb['Sheet1']\n",
        "stat_ws.column_dimensions['A'].width = 25\n",
        "stat_ws.column_dimensions['B'].width = 20\n",
        "stat_ws.column_dimensions['C'].width = 25\n",
        "for c in stat_ws[\"1:1\"]:\n",
        "  c.alignment = Alignment(horizontal='center')\n",
        "\n",
        "  c.font = Font(size=15, bold=True, color ='00FFFFFF' )\n",
        "  c.fill = PatternFill(\"solid\", fgColor=\"000066CC\")\n",
        "stat_wb.save('Execution Status.xlsx')\n",
        "match_words.append('Execution Status.xlsx')\n",
        "\n"
      ],
      "metadata": {
        "id": "-1oA4MalPcgc"
      },
      "execution_count": null,
      "outputs": [
        
      ]
    },
    {
      "cell_type": "code",
      "source": [
        "#@title Clean report file for new PT\n",
        "\n",
        "\n",
        "# delete old PT in Main Report\n",
        "wb_del = openpyxl.load_workbook(new_template)\n",
        "\n",
        "\n",
        "for sheetName in wb_del.sheetnames:\n",
        "    if sheetName  in match_words :\n",
        "        del wb_del[sheetName]\n",
        "wb_del.save(new_template)\n",
        "\n"
      ],
      "metadata": {
        "id": "v7p5S6EEifNJ",
        "cellView": "form"
      },
      "execution_count": null,
      "outputs": [
        
      ]
    },
    {
      "cell_type": "code",
      "source": [
        "#@title Change name of template with date ( refresh content or wait for the name to change before merging PTs)\n",
        "master_file = new_template\n",
        "temp_change = master_file.replace('.xlsx', '')\n",
        "now = datetime.now()\n",
        "dt_string = now.strftime(\"%Y%m%d_%H%M\")\n",
        "new_name = (temp_change +'_' + dt_string + '.xlsx')\n",
        "\n",
        "file_out = os.rename(master_file,new_name)"
      ],
      "metadata": {
        "id": "2e_UWCFH-i3n",
        "cellView": "form"
      },
      "execution_count": null,
      "outputs": [
        
      ]
    },
    {
      "cell_type": "code",
      "source": [
        "\n",
        "#@title Merging PTs to Report\n",
        "path = os.getcwd()\n",
        "files_dir = os.listdir(path)\n",
        "\n",
        "files_PT = [f for f in files_dir if \"KYR\" in f]\n",
        "\n",
        "files_PT.append('Execution Status.xlsx')\n",
        "\n",
        "files_PT\n",
        "p =0\n",
        "while p < len(files_PT):\n",
        "  l = files_PT[p]\n",
        "  l_ws = [sheet.title for sheet in l]\n",
        "  sheet_N = l.replace('.xlsx', '')\n",
        "\n",
        "  wb = openpyxl.load_workbook(l)\n",
        "  wb2 = openpyxl.load_workbook(new_name)\n",
        "\n",
        "  sheetnames = wb.sheetnames\n",
        "  for sheetname in sheetnames:\n",
        "      print(\"Merging\", sheet_N, \"to Report\")\n",
        "      sheet = wb[sheetname]\n",
        "      sheet2 = wb2.create_sheet(sheet_N)\n",
        "\n",
        "# Color format\n",
        "      sheet2.sheet_properties.tabColor = sheet.sheet_properties.tabColor\n",
        "\n",
        "#Match cells between 2 sheets and merge.\n",
        "      wm = list(sheet.merged_cells)\n",
        "      if len(wm) > 0:\n",
        "          for i in range(0, len(wm)):\n",
        "              cell2 = str(wm[i]).replace('(<CellRange ', '').replace('>,)', '')\n",
        "              sheet2.merge_cells(cell2)\n",
        "\n",
        "      for i, row in enumerate(sheet.iter_rows()):\n",
        "          sheet2.row_dimensions[i+1].height = sheet.row_dimensions[i+1].height\n",
        "          for j, cell in enumerate(row):\n",
        "              sheet2.column_dimensions[get_column_letter(j+1)].width = sheet.column_dimensions[get_column_letter(j+1)].width\n",
        "              sheet2.cell(row=i + 1, column=j + 1, value=cell.value)\n",
        "\n",
        "# Match the cell style\n",
        "              source_cell = sheet.cell(i+1, j+1)\n",
        "              target_cell = sheet2.cell(i+1, j+1)\n",
        "              target_cell.fill = copy.copy(source_cell.fill)\n",
        "              if source_cell.has_style:\n",
        "                  target_cell._style = copy.copy(source_cell._style)\n",
        "                  target_cell.font = copy.copy(source_cell.font)\n",
        "                  target_cell.border = copy.copy(source_cell.border)\n",
        "                  target_cell.fill = copy.copy(source_cell.fill)\n",
        "                  target_cell.number_format = copy.copy(source_cell.number_format)\n",
        "                  target_cell.protection = copy.copy(source_cell.protection)\n",
        "                  target_cell.alignment = copy.copy(source_cell.alignment)\n",
        "\n",
        "  \n",
        "  wb2.save(new_name)\n",
        "  wb.close()\n",
        "  wb2.close()\n",
        "\n",
        "  p +=1\n",
        "\n",
        "print('Merging process completed. Final report is ready and will be downloaded automatically.')\n",
        "print ( \"The process costed : \",format(time.time() - start_time, \".0f\"),\" seconds\" )\n",
        "files.download (new_name)"
      ],
      "metadata": {
        "id": "Hygdlj9BfjlU",
        "cellView": "form"
      },
      "execution_count": null,
      "outputs": [
        
      ]
    }
  ]
}