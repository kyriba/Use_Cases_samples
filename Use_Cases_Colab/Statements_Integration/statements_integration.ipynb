{
  "nbformat": 4,
  "nbformat_minor": 5,
  "metadata": {
    "kernelspec": {
      "display_name": "Python 3",
      "language": "python",
      "name": "python3"
    },
    "language_info": {
      "codemirror_mode": {
        "name": "ipython",
        "version": 3
      },
      "file_extension": ".py",
      "mimetype": "text/x-python",
      "name": "python",
      "nbconvert_exporter": "python",
      "pygments_lexer": "ipython3",
      "version": "3.8.2"
    },
    "colab": {
      "name": "Statements Integration.ipynb",
      "private_outputs": true,
      "provenance": [],
      "collapsed_sections": [
        "4b77b260",
        "144f5fb2"
      ]
    }
  },
  "cells": [
    {
      "cell_type": "markdown",
      "metadata": {
        "id": "EzlHrW5ylKX_"
      },
      "source": [
        "# <font color=#0066ff> Statements Integration\n",
        "## This sample operates on a MT940 Bank Statement integration example\n"
      ],
      "id": "EzlHrW5ylKX_"
    },
    {
      "cell_type": "markdown",
      "source": [
        "![images.png](data:image/png;base64,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)"
      ],
      "metadata": {
        "id": "_w0_pMnuj0Ui"
      },
      "id": "_w0_pMnuj0Ui"
    },
    {
      "cell_type": "markdown",
      "metadata": {
        "id": "4b77b260"
      },
      "source": [
        "## <font color='yellow'>Code for token generation and API management </font>"
      ],
      "id": "4b77b260"
    },
    {
      "cell_type": "code",
      "metadata": {
        "id": "PSlAuwtwW30P",
        "cellView": "form"
      },
      "source": [
        "#@title Select **servicePack** the Sample should run\n",
        "from subprocess import getstatusoutput\n",
        "servicePack = \"DEMO\" #@param ['DEMO'] {allow-input: true}\n",
        "\n",
        "if servicePack == 'DEMO':\n",
        "  branch = 'main'\n",
        "else:\n",
        "  branch = servicePack\n",
        "print(branch)\n",
        "rm = getstatusoutput(\"rm sample_requests -rf \") \n",
        "clone = getstatusoutput(\"git clone -l -s --branch \" +  branch + \" https://github.com/kyriba/Colab_shared_code_for_API_usage.git\") \n",
        "import importlib\n",
        "try:  \n",
        "  importlib.reload(sample_requests)\n",
        "except:\n",
        "  print()\n",
        "from Colab_shared_code_for_API_usage import sample_requests\n"
      ],
      "id": "PSlAuwtwW30P",
      "execution_count": null,
      "outputs": []
    },
    {
      "cell_type": "code",
      "metadata": {
        "id": "31f2f8e5",
        "cellView": "form"
      },
      "source": [
        "#@title Import custom modules\n",
        "import time\n",
        "import json\n",
        "import matplotlib\n",
        "from pprint import pprint\n",
        "import matplotlib.pyplot as plot\n",
        "from datetime import datetime, timedelta\n",
        "import random\n",
        "import numpy as np\n",
        "import matplotlib\n",
        "from pprint import pprint\n",
        "import matplotlib.pyplot as plot\n",
        "import json\n",
        "import random\n",
        "import matplotlib.pyplot as plt\n",
        "!pip install striprtf\n",
        "from striprtf.striprtf import rtf_to_text\n",
        "import functools\n",
        "from google.colab import widgets\n",
        "import ipywidgets\n",
        "from IPython.display import display\n",
        "from google.colab import files"
      ],
      "id": "31f2f8e5",
      "execution_count": null,
      "outputs": []
    },
    {
      "cell_type": "markdown",
      "metadata": {
        "id": "144f5fb2"
      },
      "source": [
        "## <font color='yellow'>Connect and  retrieve token</font>\n"
      ],
      "id": "144f5fb2"
    },
    {
      "cell_type": "code",
      "metadata": {
        "id": "0qwhtVxZeNpw",
        "cellView": "form"
      },
      "source": [
        "#@title <font color='lime'> Connect </font>\n",
        "\n",
        "token = sample_requests.login()\n",
        "print ('Token: '+ token)"
      ],
      "id": "0qwhtVxZeNpw",
      "execution_count": null,
      "outputs": []
    },
    {
      "cell_type": "markdown",
      "metadata": {
        "id": "XB95ombdFF2-"
      },
      "source": [
        "## <font color='yellow'>Integrate MT940 bank statement</font>"
      ],
      "id": "XB95ombdFF2-"
    },
    {
      "cell_type": "code",
      "metadata": {
        "id": "E1pfiqw8FEqQ",
        "cellView": "form"
      },
      "source": [
        "#@title <font color='lime'>  Integrate MT940 </font>\n",
        "#@markdown The example payload is already included inside of the code and will be uploaded before being integrated into the statement.\n",
        "\n",
        "#@markdown Payload can be seen in the response below, after running the cell.\n",
        "\n",
        "usePayload = True #@param {type:\"boolean\"}\n",
        "traces = True #@param {type:\"boolean\"}\n",
        "\n",
        "if traces:\n",
        "  if usePayload:\n",
        "    print('data will be sent by payload\\n')\n",
        "  else:\n",
        "    print('data will be sent by file\\n')\n",
        "\n",
        "MT940 = ''':20:196071\n",
        ":25:PAYMENTTITLE01\n",
        ":28C:1\n",
        ":60M:211005\n",
        ":61:2110051005CR66300.00+CPONONREF\n",
        ":86:Description1\n",
        ":62F:C211005EUR84300.00     \n",
        "'''\n",
        "\n",
        "print (MT940)\n",
        "res = sample_requests.import_data(token, MT940, 'VDO_APITESTING.txt', 'IMP_BK_MT940', usePayload, traces)\n",
        "\n",
        "print(\"\")\n",
        "print(\"\")\n",
        "print(\"Status of the report:\")\n",
        "\n",
        "integrated = False\n",
        "while not integrated:\n",
        "  res = sample_requests.run_report(token,\"VDO_APITESTING\")\n",
        "\n",
        "  buffer = sample_requests.StringIO(res[3:])\n",
        "  df2 = sample_requests.pd.read_csv (buffer)\n",
        "  i = iter(range(1, len(df2.columns) + 1))\n",
        "\n",
        "  df2.columns = [x if not x.startswith('Unnamed') else next(i) for x in df2.columns]\n",
        "  print (df2)\n",
        "  if ( df2.at[0,'Statement delivery'] == 'Integrated'):\n",
        "    integrated = True\n",
        "  elif ( df2.at[0, 'Statement delivery'] != None ):\n",
        "    print (df2.at[0,'Statement delivery'])\n",
        "    break"
      ],
      "id": "E1pfiqw8FEqQ",
      "execution_count": null,
      "outputs": []
    }
  ]
}