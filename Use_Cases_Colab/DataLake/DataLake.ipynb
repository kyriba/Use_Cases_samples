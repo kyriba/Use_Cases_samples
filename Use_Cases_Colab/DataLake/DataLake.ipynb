{
  "cells": [
    {
      "cell_type": "markdown",
      "metadata": {
        "id": "DuEjjzHQle8f"
      },
      "source": [
        "# <font color=cyan> Data Lake. Data extraction </font>\n",
        "\n"
      ]
    },
    {
      "cell_type": "markdown",
      "metadata": {
        "id": "uQ05sK9vlump"
      },
      "source": [
        "The main goal of this Sample is to retrieve account's cash balance and bank balance for every day after entered day. The sample uses Cash API to retrive balance. There is possible to download csv file with results."
      ]
    },
    {
      "cell_type": "markdown",
      "metadata": {
        "id": "LE9Odqrou2oJ"
      },
      "source": [
        "## <font color='yellow'>Code for token generation and API management </font>\n"
      ]
    },
    {
      "cell_type": "code",
      "execution_count": null,
      "metadata": {
        "id": "qIh9BI4ZVF8d",
        "cellView": "form"
      },
      "outputs": [],
      "source": [
        "#@title Select **servicePack** the Sample should run\n",
        "from subprocess import getstatusoutput\n",
        "servicePack = \"DEMO\" #@param ['DEMO'] {allow-input: true}\n",
        "\n",
        "if servicePack == 'DEMO':\n",
        "  branch = 'main'\n",
        "else:\n",
        "  branch = servicePack\n",
        "print(branch)\n",
        "rm = getstatusoutput(\"rm Colab_shared_code_for_API_usage -rf \") \n",
        "clone = getstatusoutput(\"git clone -l -s --branch \" +  branch + \" https://github.com/kyriba/Colab_shared_code_for_API_usage.git\") \n",
        "import importlib\n",
        "try:  \n",
        "  importlib.reload(sample_requests)\n",
        "except:\n",
        "  print()\n",
        "from Colab_shared_code_for_API_usage import sample_requests\n"
      ]
    },
    {
      "cell_type": "code",
      "execution_count": 2,
      "metadata": {
        "id": "AdS3jgyznvbo",
        "cellView": "form"
      },
      "outputs": [],
      "source": [
        "#@title Import custom modules\n",
        "import pandas as pd\n",
        "from io import StringIO\n",
        "from datetime import datetime, timedelta, date\n",
        "import dateutil.relativedelta\n",
        "import calendar\n",
        "from IPython.display import display, HTML\n",
        "from google.colab import widgets\n",
        "import ipywidgets\n",
        "from IPython.display import display\n",
        "from google.colab import files\n",
        "import sys"
      ]
    },
    {
      "cell_type": "markdown",
      "metadata": {
        "id": "e0Qk0kI5q1zI"
      },
      "source": [
        "## <font color='yellow'>Connect and retrieve token</font>"
      ]
    },
    {
      "cell_type": "code",
      "execution_count": 3,
      "metadata": {
        "id": "f0259b5a",
        "scrolled": false,
        "colab": {
          "base_uri": "https://localhost:8080/"
        },
        "outputId": "d2d00603-fae0-4993-b81f-baae103993e6"
      },
      "outputs": [
        {
          "output_type": "stream",
          "name": "stdout",
          "text": [
            "token:\n",
            "token 46f633ae-6c2d-4bce-abea-b428fc80239e\n"
          ]
        }
      ],
      "source": [
        "#@title <font color='lime'>Connect</font>\n",
        "print('token:')\n",
        "token = sample_requests.login()"
      ]
    },
    {
      "cell_type": "markdown",
      "metadata": {
        "id": "5m-bcEvEnwyI"
      },
      "source": [
        "## <font color='yellow'>1. Export updated Accounts and their balances </font>"
      ]
    },
    {
      "cell_type": "code",
      "execution_count": null,
      "metadata": {
        "id": "w_aXLlkunAan",
        "cellView": "form"
      },
      "outputs": [],
      "source": [
        "import traceback \n",
        "#@title <font color='lime'>Show updated accounts</font>\n",
        "Start_export = '2023-02-21'#@param {type:\"date\"}\n",
        "\n",
        "# todo: check if start_export is correct\n",
        "current_date = datetime.today()\n",
        "current_month = current_date.month\n",
        "last_month = current_month - 3 if current_month > 3 else current_month - 3 + 12  \n",
        "last_year = current_date.year if current_month > 3 else current_date.year -1\n",
        "last_day =  current_date.day \n",
        "try:\n",
        "  today_a_3_month_ago = date(last_year, last_month, last_day)\n",
        "except:\n",
        "  last_day = calendar.monthlen(last_year, last_month)\n",
        "  today_a_3_month_ago = date(last_year, last_month, last_day)\n",
        "if(datetime.strptime(Start_export, \"%Y-%m-%d\").date() < today_a_3_month_ago):\n",
        "  print(\"Start export date should be not earlier then 3 month ago\")\n",
        "  df1 = pd.DataFrame(columns = ['Company', 'Bank', 'Branch', 'Account', 'Currency', 'Created', 'Updated'])\n",
        "else:\n",
        "  request = '/v1/accounts?page.limit=1&filter=updateDate=ge='+ Start_export +',creationDate=ge=' + Start_export\n",
        "  res1 = sample_requests.get_results(token, request)\n",
        "  ppjson = sample_requests.js.loads(res1, parse_int=int)\n",
        "\n",
        "  # convert json to dataFrame\n",
        "  df1 = sample_requests.pd.json_normalize(ppjson['results']).filter(items=['uuid','company.code', 'bank.code', 'branch.code', 'code', 'currency.code', 'creationDate', 'updateDate'], axis =1)\n",
        "  # Get results and append to previous unless next is absent.\n",
        "  while True:\n",
        "    try:\n",
        "      next = ppjson['metadata']['links']['next']\n",
        "      res1 = sample_requests.get_results(token, '/v1/accounts' + next[next.index('?'):])\n",
        "      ppjson = sample_requests.js.loads(res1, parse_int=int)  \n",
        "      df1 = df1.append(sample_requests.pd.json_normalize(ppjson['results']).filter(items=['uuid', 'company.code', 'bank.code', 'branch.code', 'code', 'currency.code', 'creationDate', 'updateDate'], axis =1), ignore_index = True)\n",
        "    except:\n",
        "      break\n",
        "df1 = df1.rename(columns={'company.code':'Company', 'bank.code':'Bank', 'branch.code':'Branch', 'code':'Account', 'currency.code':'Currency', 'creationDate':'Created', 'updateDate':'Updated'})\n",
        "if(df1.empty):\n",
        "  df1 = pd.DataFrame(columns = ['Company', 'Bank', 'Branch', 'Account', 'Currency', 'Created', 'Updated'])\n",
        "display(df1)\n",
        "  "
      ]
    },
    {
      "cell_type": "code",
      "execution_count": null,
      "metadata": {
        "id": "llaGcunIK87l",
        "cellView": "form"
      },
      "outputs": [],
      "source": [
        "#@title <font color='lime'>Show account balance</font>\n",
        "import warnings\n",
        "warnings.filterwarnings(\"ignore\")\n",
        "Account_code = 'HSBCSBXSTA'#@param {type:\"string\"}\n",
        "all_accounts = False #@param {type:\"boolean\"}\n",
        "Start_export = '2023-02-21'#@param {type:\"date\"}\n",
        "\n",
        "#@markdown <font color='Orange'>Bank Balance Settings</font>\n",
        "\n",
        "Balance_Type = 'END_OF_DAY' #@param['END_OF_DAY', 'INTRADAY']\n",
        "Bank_Balance_Type = Balance_Type;\n",
        "\n",
        "#@markdown <font color='Orange'>Cash Balance Settings</font>\n",
        "\n",
        "dates_Type = 'TRANSACTION' #@param['TRANSACTION', 'VALUE']\n",
        "Cash_Balance_Date_Type = dates_Type\n",
        "\n",
        "Actual = True #@param {type:\"boolean\"}\n",
        "Cash_Balance_Actual=Actual\n",
        "\n",
        "Intraday = True #@param {type:\"boolean\"}\n",
        "Cash_Balance_Intraday=Intraday\n",
        "\n",
        "Estimated = True #@param {type:\"boolean\"}\n",
        "Cash_Balance_Estimated=Estimated\n",
        "\n",
        "Confirmed = True #@param {type:\"boolean\"}\n",
        "Cash_Balance_Confirmed = Confirmed\n",
        "\n",
        "df2 = df1\n",
        "if not all_accounts:\n",
        "  df2 = df2.loc[df2['Account'] == Account_code]\n",
        "print('Procesing...')\n",
        "for index, row in df2.iterrows():\n",
        "  uuid = row['uuid']\n",
        "  request = '/v1/cash-balances/accounts/' + uuid + '/balances?dateType=' + Cash_Balance_Date_Type + '&startDate=' + Start_export + '&endDate=' + datetime.strftime(datetime.today(), \"%Y-%m-%d\") + '&actual=' + str(Cash_Balance_Actual) + '&intraday=' + str(Cash_Balance_Intraday) + '&confirmedForecasts=' + str(Cash_Balance_Confirmed) + '&estimatedForecasts=' + str(Cash_Balance_Estimated)\n",
        "  res_cash = sample_requests.get_results(token, request)\n",
        "  res_cash = sample_requests.js.loads(res_cash, parse_int=int)\n",
        "  cash_balance = res_cash['cashBalance']\n",
        "  for day in cash_balance:  \n",
        "    single_date = day['balanceDate']['date']   \n",
        "    request = '/v1/bank-balances/accounts/' + uuid + '/balances?date=' + single_date + '&type=' + Bank_Balance_Type\n",
        "    res = sample_requests.get_results(token, request)\n",
        "    res = sample_requests.js.loads(res, parse_int=int)\n",
        "    balance = 'Bank balance: ' + str(res['bankBalance']['amount']) + str(res['bankBalance']['currencyCode'])\n",
        "    balance = balance + '\\n Cash balance: ' + str(day['amount']) + str(day['currencyCode'])\n",
        "    df2.at[index, single_date] = balance\n",
        "\n",
        "\n",
        "display(HTML(df2.to_html().replace(\"\\\\n\",\"<br>\") ))\n",
        "\n",
        "def on_button_balance(b):\n",
        "  files.download('accounts_balance.csv')\n",
        "\n",
        "df2.to_csv('accounts_balance.csv')\n",
        "print(\"Please find  accounts_balance.csv file inside content folder or download.\\n\")\n",
        "button = ipywidgets.widgets.Button(description='Download')\n",
        "button.on_click(on_button_balance)\n",
        "display(button)"
      ]
    },
    {
      "cell_type": "markdown",
      "metadata": {
        "id": "HJ5TnqiQnvoS"
      },
      "source": [
        "## <font color='yellow'>2. Export Cash Flows via CRUD API vs TASK APIs </font>"
      ]
    },
    {
      "cell_type": "code",
      "source": [
        "import warnings\n",
        "warnings.filterwarnings(\"ignore\")\n",
        "\n",
        "#@title <font color='lime'>Export Cash Flows via CRUD API</font> \n",
        "Export_Period = 'LAST 7 DAYS' #@param['TODAY', 'LAST 7 DAYS', 'LAST 30 DAYS']\n",
        "if Export_Period == 'TODAY':\n",
        "  day = datetime.today().strftime(\"%Y-%m-%d\") \n",
        "elif Export_Period == 'LAST 7 DAYS':\n",
        "  day = datetime.today() - timedelta(days = 7)\n",
        "  day = day.strftime(\"%Y-%m-%d\") \n",
        "elif Export_Period == 'LAST 30 DAYS':\n",
        "  day = datetime.today() - timedelta(days = 30)\n",
        "  day = day.strftime(\"%Y-%m-%d\") \n",
        "day = day + 'T00:00:00Z'\n",
        "print('Processing...')\n",
        "request3 = '/v1/cash-flows?dateType=UPDATE&filter=updateDateTime=ge='+ day\n",
        "res3 = sample_requests.get_results(token, request3)\n",
        "ppjson3 = sample_requests.js.loads(res3, parse_int=int)\n",
        "\n",
        "df3 = sample_requests.pd.json_normalize(ppjson3['results']).filter(items=['account.code','flowCode.code', 'budgetCode.code', 'date.transactionDate', 'date.valueDate', 'date.accountingDate', 'date.updateDateTime', 'flowAmount.currency.code', 'flowAmount.value', 'flowAmount.amount', 'accountAmount.currency.code', 'accountAmount.value', 'accountAmount.amount', 'description', 'reference', 'origin', 'status'], axis =1)\n",
        "# Get results and append to previous unless next is absent.\n",
        "while True:\n",
        "  try:\n",
        "    next = ppjson3['metadata']['links']['next']\n",
        "    res3 = sample_requests.get_results(token, '/v1/cash-flows' + next[next.index('?'):])\n",
        "    ppjson3 = sample_requests.js.loads(res3, parse_int=int)  \n",
        "    df3 = df3.append(sample_requests.pd.json_normalize(ppjson3['results']).filter(items=['account.code','flowCode.code', 'budgetCode.code', 'date.transactionDate', 'date.valueDate', 'date.accountingDate', 'date.updateDateTime', 'flowAmount.currency.code', 'flowAmount.value', 'accountAmount.currency.code', 'accountAmount.value', 'description', 'reference', 'origin', 'status'], axis =1), ignore_index = True)\n",
        "  except:\n",
        "    break\n",
        "\n",
        "df3 = df3.rename(columns = {'account.code':'Account','flowCode.code':'flowCode', 'budgetCode.code':'budgetCode', 'date.transactionDate':'transactionDate', 'date.valueDate':'valueDate', 'date.accountingDate':'accountingDate', 'date.updateDateTime':'updateDateTime', 'flowAmount.currency.code':'flowCurrency', 'flowAmount.value':'flowAmount', 'flowAmount.amount':'flowAmount', 'accountAmount.currency.code':'accountCurrency', 'accountAmount.value':'accountAmount', 'accountAmount.amount':'accountAmount'})\n",
        "df3= df3.drop_duplicates(ignore_index=True)\n",
        "display(df3)\n",
        "\n",
        "def on_button_balance_task(b):\n",
        "  files.download('account_balance_CRUDAPI.csv')\n",
        "\n",
        "df3.to_csv('account_balance_CRUDAPI.csv', sep = '|')\n",
        "print(\"Please find  account_balance_CRUDAPI.csv file inside content folder or download.\\n\")\n",
        "button = ipywidgets.widgets.Button(description='Download')\n",
        "button.on_click(on_button_balance_task)\n",
        "display(button)"
      ],
      "metadata": {
        "cellView": "form",
        "id": "gVFBdBqlfxk5"
      },
      "execution_count": null,
      "outputs": []
    },
    {
      "cell_type": "code",
      "execution_count": null,
      "metadata": {
        "cellView": "form",
        "id": "hnTFRnSlnvof"
      },
      "outputs": [],
      "source": [
        "import warnings\n",
        "warnings.filterwarnings(\"ignore\")\n",
        "\n",
        "#@title <font color='lime'>Export Cash Flows via TASK API</font> \n",
        "Export_Period = 'LAST 7 DAYS' #@param['TODAY', 'LAST 7 DAYS', 'LAST 30 DAYS']\n",
        "trace = False #@param {type:\"boolean\"}\n",
        "PT = ''\n",
        "if Export_Period == 'TODAY':\n",
        "  PT = 'EXP_CASH_API_T'\n",
        "elif Export_Period == 'LAST 7 DAYS':\n",
        "  PT = 'EXP_CASH_API_L7'\n",
        "elif Export_Period == 'LAST 30 DAYS':\n",
        "  PT = 'EXP_CASH_API_30'\n",
        "print('Start...')\n",
        "res4 = sample_requests.run_report(token, PT, trace)\n",
        "buffer = StringIO(res4)\n",
        "df4 = pd.read_csv(buffer, delimiter='|', header=None, names = ['Account', 'flowCode', 'budgetCode', 'transactionDate', 'valueDate', 'accountingDate', 'updateDateTime', 'flowCurrency', 'flowAmount', 'accountCurrency', 'accountAmount', 'description', 'reference', 'origin', 'status', ''], usecols = ['Account', 'flowCode', 'budgetCode', 'transactionDate', 'valueDate', 'accountingDate', 'updateDateTime', 'flowCurrency', 'flowAmount', 'accountCurrency', 'accountAmount', 'description', 'reference', 'origin', 'status'])\n",
        "df4 = df4.drop_duplicates(ignore_index=True)\n",
        "display(df4)\n",
        "\n",
        "def on_button_balance_task(b):\n",
        "  files.download('account_balance_taskAPI.csv')\n",
        "\n",
        "df4.to_csv('account_balance_taskAPI.csv', sep = '|')\n",
        "print(\"Please find  account_balance_taskAPI.csv file inside content folder or download.\\n\")\n",
        "button = ipywidgets.widgets.Button(description='Download')\n",
        "button.on_click(on_button_balance_task)\n",
        "display(button)\n"
      ]
    },
    {
      "cell_type": "markdown",
      "metadata": {
        "id": "u26dRBRkoCP-"
      },
      "source": [
        "## <font color='yellow'>3. Export Cash Flows via CRUD with DateTime </font>"
      ]
    },
    {
      "cell_type": "code",
      "execution_count": null,
      "metadata": {
        "cellView": "form",
        "id": "SSWPVrwboCP-"
      },
      "outputs": [],
      "source": [
        "#@title <font color='lime'>Export Cash Flows from: </font>\n",
        "Day = '2023-02-21'#@param {type:\"date\"}\n",
        "Hour = 16#@param {type:\"slider\", min:0, max:24, step:1}\n",
        "Min = 0#@param {type:\"slider\", min:0, max:60, step:1}\n",
        "Sec = 0#@param {type:\"slider\", min:0, max:60, step:1}\n",
        "if Hour < 10:\n",
        "  hour = '0' + str(Hour)\n",
        "else:\n",
        "  hour = str(Hour)\n",
        "if Min < 10:\n",
        "  min = '0' + str(Min)\n",
        "else:\n",
        "  min = str(Min)\n",
        "if Sec < 10:\n",
        "  sec = '0' + str(Sec)\n",
        "else:\n",
        "  sec = str(Sec)\n",
        "day = Day + 'T' + hour + ':' + min + ':' + sec + 'Z'\n",
        "request5 = '/v1/cash-flows?dateType=UPDATE&filter=updateDateTime=ge=' + day\n",
        "res5 = sample_requests.get_results(token, request5)\n",
        "ppjson5 = sample_requests.js.loads(res5, parse_int=int)\n",
        "if len(ppjson5['results'])!= 0:\n",
        "  # convert json to dataFrame\n",
        "  df5 = sample_requests.pd.json_normalize(ppjson5['results']).filter(items=['account.code', 'flowCode.code', 'budgetCode.code', 'date.transactionDate', 'date.valueDate', 'date.accountingDate', 'date.updateDateTime', 'flowAmount.currency.code', 'flowAmount.value', 'flowAmount.amount', 'accountAmount.currency.code', 'accountAmount.value', 'accountAmount.amount','description', 'reference', 'origin', 'status'], axis =1)\n",
        "  # Get results and append to previous unless next is absent.\n",
        "  while True:\n",
        "    try:\n",
        "      next = ppjson5['metadata']['links']['next']\n",
        "      res5 = sample_requests.get_results(token, '/v1/cash-flows' + next[next.index('?'):])\n",
        "      ppjson5 = sample_requests.js.loads(res5, parse_int=int)  \n",
        "      df5 = df5.append(sample_requests.pd.json_normalize(ppjson5['results']).filter(items=['account.code', 'flowCode.code', 'budgetCode.code', 'date.transactionDate', 'date.valueDate', 'date.accountingDate', 'date.updateDateTime', 'flowAmount.currency.code', 'flowAmount.value', 'flowAmount.amount', 'accountAmount.currency.code', 'accountAmount.value', 'accountAmount.amount', 'description', 'reference', 'origin', 'status'], axis =1), ignore_index = True)\n",
        "    except:\n",
        "      break\n",
        "  df5 = df5.rename(columns={'account.code':'Account', 'flowCode.code':'flowCode', 'budgetCode.code':'budgetCode', 'date.transactionDate':'transactionDate', 'date.valueDate':'valueDate', 'date.accountingDate':'accountingDate', 'date.updateDateTime':'updateDateTime', 'flowAmount.currency.code':'flowCurrency', 'flowAmount.value':'flowAmount', 'flowAmount.amount':'flowAmount','accountAmount.currency.code':'accountCurrency', 'accountAmount.value':'accountAmount', 'accountAmount.amount':'accountAmount'})\n",
        "  display(df5)\n",
        "\n",
        "  def on_button_balance(b):\n",
        "    files.download('account_balance_with_datetime.csv')\n",
        "\n",
        "  df5.to_csv('account_balance_with_datetime.csv')\n",
        "  print(\"Please find  account_balance.csv file inside content folder or download.\\n\")\n",
        "  button = ipywidgets.widgets.Button(description='Download')\n",
        "  button.on_click(on_button_balance)\n",
        "  display(button)\n",
        "else:\n",
        "  print(\"Results not found for entered date.\")"
      ]
    },
    {
      "cell_type": "markdown",
      "metadata": {
        "id": "QZymLfWjyhD8"
      },
      "source": [
        "## <font color='yellow'>Kyriba APIs: build your future</font>"
      ]
    },
    {
      "cell_type": "markdown",
      "metadata": {
        "id": "P2YWcQKIy813"
      },
      "source": [
        "![global.jpeg](data:image/jpeg;base64,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)"
      ]
    }
  ],
  "metadata": {
    "colab": {
      "provenance": [],
      "collapsed_sections": [
        "LE9Odqrou2oJ",
        "e0Qk0kI5q1zI"
      ]
    },
    "kernelspec": {
      "display_name": "Python 3",
      "name": "python3"
    },
    "language_info": {
      "name": "python"
    }
  },
  "nbformat": 4,
  "nbformat_minor": 0
}