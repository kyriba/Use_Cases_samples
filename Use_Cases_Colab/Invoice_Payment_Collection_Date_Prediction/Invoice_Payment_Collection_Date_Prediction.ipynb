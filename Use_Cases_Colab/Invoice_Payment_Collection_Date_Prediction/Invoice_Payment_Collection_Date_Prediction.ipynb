{
  "nbformat": 4,
  "nbformat_minor": 0,
  "metadata": {
    "colab": {
      "provenance": []
    },
    "kernelspec": {
      "name": "python3",
      "display_name": "Python 3"
    },
    "language_info": {
      "name": "python"
    }
  },
  "cells": [
    {
      "cell_type": "markdown",
      "source": [
        "#<font color=\"yellow\">Invoice Payment Collection Date Prediction</font>\n",
        "\n",
        "\n",
        "This sample shows how to programmatically create Working Capital invoice documents in Kyriba and leverage Kyriba's Machine Learning (ML) capabilities to predict payment collection dates. The workflow consists of three main steps:\n",
        "\n",
        "1. **Invoice Document Creation**: Fill out a form with invoice details and create the corresponding document in Kyriba.\n",
        "2. **ML Prediction Processing**: Launch Kyriba's ML prediction process to analyze the created invoice and generate payment date prediction.\n",
        "3. **Results Collection**: Retrieve the payment date forecast."
      ],
      "metadata": {
        "id": "5j1UMhh3BozY"
      }
    },
    {
      "cell_type": "markdown",
      "source": [
        "## <font color='yellow'> Step 0.1: Code for token generation and API management</font>"
      ],
      "metadata": {
        "id": "tTabkhTTPeLU"
      }
    },
    {
      "cell_type": "code",
      "source": [
        "#@title Select **servicePack** the Sample should run\n",
        "from subprocess import getstatusoutput\n",
        "servicePack = \"DEMO\"\n",
        "\n",
        "if servicePack == 'DEMO':\n",
        "  branch = 'main'\n",
        "else:\n",
        "  branch = servicePack\n",
        "print(branch)\n",
        "rm = getstatusoutput(\"rm Colab_shared_code_for_API_usage -rf \")\n",
        "clone = getstatusoutput(\"git clone -l -s --branch \" +  branch + \" https://github.com/kyriba/Colab_shared_code_for_API_usage.git\")\n",
        "import importlib\n",
        "try:\n",
        "  importlib.reload(sample_requests)\n",
        "except:\n",
        "  print()\n",
        "from Colab_shared_code_for_API_usage import sample_requests"
      ],
      "metadata": {
        "id": "SI_MbHgWPloG",
        "cellView": "form",
        "colab": {
          "base_uri": "https://localhost:8080/"
        },
        "outputId": "44863632-26fb-4e76-f9a7-bde2b0f03f4b"
      },
      "execution_count": 16,
      "outputs": [
        {
          "output_type": "stream",
          "name": "stdout",
          "text": [
            "main\n"
          ]
        }
      ]
    },
    {
      "cell_type": "code",
      "source": [
        "#@title Import custom modules\n",
        "import json as js\n",
        "from datetime import datetime, date\n",
        "import pandas as pd\n",
        "from time import sleep"
      ],
      "metadata": {
        "id": "gonFHawePm5b",
        "cellView": "form"
      },
      "execution_count": 17,
      "outputs": []
    },
    {
      "cell_type": "markdown",
      "source": [
        "## <font color='yellow'>Step 0.2: Connect and retrieve token</font>"
      ],
      "metadata": {
        "id": "HxlEQzPQPynj"
      }
    },
    {
      "cell_type": "code",
      "source": [
        "#@title Connect and get token { display-mode: \"form\" }\n",
        "token = sample_requests.login()"
      ],
      "metadata": {
        "id": "fpBnsebkP4c1",
        "colab": {
          "base_uri": "https://localhost:8080/"
        },
        "outputId": "d9b0b20c-5192-447b-935a-8c239a593a26"
      },
      "execution_count": 26,
      "outputs": [
        {
          "output_type": "stream",
          "name": "stdout",
          "text": [
            "token 96cc028c-c4ce-4bda-bb41-43739369602a\n"
          ]
        }
      ]
    },
    {
      "cell_type": "markdown",
      "source": [
        "## <font color='yellow'>Step 1: Create a Document </font>\n"
      ],
      "metadata": {
        "id": "QMkoJQR6QJOD"
      }
    },
    {
      "cell_type": "code",
      "source": [
        "#@title <font color='lime'>📝 Create a Document</font>\n",
        "\n",
        "from dateutil import parser\n",
        "\n",
        "# Get user input for invoice data\n",
        "#@markdown Provide values for parameters below:\n",
        "invoice_date = '2025-06-25' #@param {allow-input: true} {type:\"date\"}\n",
        "due_date = '2025-07-25' #@param {allow-input: true} {type:\"date\"}\n",
        "currency = 'EUR' #@param {allow-input: true} {type:\"string\"}\n",
        "amount = 17554 #@param {allow-input: true} {type:\"number\"}\n",
        "reference = 'INVOICE_1' #@param {allow-input: true} {type:\"string\"}\n",
        "\n",
        "# Hardcoded values\n",
        "buyer = \"COMPANY01\"\n",
        "supplier = \"THIRD-PARTY2\"\n",
        "supplier_reference = reference\n",
        "\n",
        "# Create invoice data\n",
        "invoice_data = {\n",
        "    \"Invoice Date\": invoice_date,\n",
        "    \"Due Date\": due_date,\n",
        "    \"Currency\": currency,\n",
        "    \"Amount\": amount,\n",
        "    \"Reference\": reference,\n",
        "    \"Buyer\": buyer,\n",
        "    \"Supplier\": supplier,\n",
        "    \"Supplier Reference\": supplier_reference\n",
        "}\n",
        "\n",
        "# ────────────────────────────────────────────────────────────────────────────\n",
        "# Payload Builder Functions\n",
        "# ────────────────────────────────────────────────────────────────────────────\n",
        "\n",
        "def parse_eu_date(s: str):\n",
        "    \"\"\"Accepts 7/2/25, 07/02/2025, 7-2-25 … and returns a datetime.\"\"\"\n",
        "    return parser.parse(str(s), dayfirst=True, yearfirst=False)\n",
        "\n",
        "def build_document_payload(data):\n",
        "    amt = float(data[\"Amount\"])\n",
        "\n",
        "    return {\n",
        "        \"type\": \"INVOICE\",\n",
        "        \"amount\": amt,\n",
        "        \"currency\": {\n",
        "            \"code\": data[\"Currency\"].strip().upper()\n",
        "        },\n",
        "        \"buyer\": {\n",
        "            \"uuid\": \"1e094c0d-20b1-45a2-e063-a80f11ac99de\",\n",
        "            \"code\": data[\"Buyer\"].strip()\n",
        "        },\n",
        "        \"thirdParty\": {\n",
        "            \"code\": data[\"Supplier\"].strip()\n",
        "        },\n",
        "        \"invoiceDate\": parse_eu_date(data[\"Invoice Date\"]).strftime(\"%Y-%m-%d\"),\n",
        "        \"dueDate\": parse_eu_date(data[\"Due Date\"]).strftime(\"%Y-%m-%d\"),\n",
        "        \"reference\": str(data[\"Reference\"]).strip(),\n",
        "        \"supplierReference\": str(data[\"Supplier Reference\"]).strip(),\n",
        "        \"documentCategory\": \"SELLER_MANAGED_RECEIVABLE\",\n",
        "        \"paymentInfo\": {\n",
        "            \"paymentPreparationInfo\": {\n",
        "                \"paymentMethod\": \"TRANSFER\",\n",
        "                \"debitAccount\": {\n",
        "                    \"code\": \"000123\"\n",
        "                }\n",
        "            }\n",
        "        }\n",
        "    }\n",
        "\n",
        "# ────────────────────────────────────────────────────────────────────────────\n",
        "# Create Document\n",
        "# ────────────────────────────────────────────────────────────────────────────\n",
        "\n",
        "assert 'token' in globals() and token, \"⚠️ Run the Connect cell first to obtain a token.\"\n",
        "\n",
        "# Create single document\n",
        "payload = build_document_payload(invoice_data)\n",
        "json_payload = sample_requests.js.dumps(payload)\n",
        "\n",
        "doc_response = sample_requests.post_results(\n",
        "    token,\n",
        "    '/workcap/v2/documents',\n",
        "    json_payload,\n",
        "    {},\n",
        "    {'Content-Type': 'application/json'}\n",
        ")\n",
        "\n",
        "doc_id = doc_response[\"uuid\"]\n",
        "print(f\"✅ Created document {doc_id}\")\n",
        "\n",
        "# Store document info for later processing (as a single item instead of list)\n",
        "created_document = {\n",
        "    \"document_id\": doc_id,\n",
        "    \"reference\": reference,\n",
        "    \"data\": invoice_data\n",
        "}\n"
      ],
      "metadata": {
        "colab": {
          "base_uri": "https://localhost:8080/"
        },
        "id": "fuWqxJTsQU7I",
        "outputId": "e138b5f2-d710-483e-a363-e90584a8a647",
        "cellView": "form"
      },
      "execution_count": 27,
      "outputs": [
        {
          "output_type": "stream",
          "name": "stdout",
          "text": [
            "✅ Created document e0a54173-f0bc-4a4b-848a-24905439ec0f\n"
          ]
        }
      ]
    },
    {
      "cell_type": "markdown",
      "source": [
        "## <font color='yellow'>Step 2: Run the Prediction </font>\n"
      ],
      "metadata": {
        "id": "ZiAdEogJAxib"
      }
    },
    {
      "cell_type": "code",
      "source": [
        "#@title <font color='lime'>🔮 Run Prediction Template and Monitor Status</font>\n",
        "\n",
        "sample_requests.run_process(token,'RF_AI_PREDICT', True)"
      ],
      "metadata": {
        "colab": {
          "base_uri": "https://localhost:8080/",
          "height": 464
        },
        "cellView": "form",
        "id": "nxabDjEpQVyj",
        "outputId": "490924a4-595e-4eba-a34f-c34903c6636c"
      },
      "execution_count": 28,
      "outputs": [
        {
          "output_type": "stream",
          "name": "stdout",
          "text": [
            "\n",
            " Run task bcff4708-5939-466c-b0f9-bef1b9dd5237\n",
            "..........................................................\n",
            "Complete\n",
            "\n",
            "task details\n",
            "{\n",
            "  \"uuid\": \"bcff4708-5939-466c-b0f9-bef1b9dd5237\",\n",
            "  \"taskType\": \"Generate AI prediction data\",\n",
            "  \"taskDescription\": \"Generate AI prediction data\",\n",
            "  \"taskStatus\": \"Complete\",\n",
            "  \"taskStartTime\": \"2025-07-10 15:57:23\",\n",
            "  \"taskEndTime\": \"2025-07-10 15:57:54\",\n",
            "  \"taskCode\": \"RF96_T\",\n",
            "  \"taskLog\": [\n",
            "    \"Thu 07/10/2025 3:57:23 PM <INFO> Start of task Generate AI prediction data based on Generate AI prediction data\",\n",
            "    \"Thu 07/10/2025 3:57:23 PM <INFO> Document category; Entity; Documents;\",\n",
            "    \"Thu 07/10/2025 3:57:54 PM <INFO> Seller managed receivable; THIRD-PARTY2; 55\",\n",
            "    \"Thu 07/10/2025 3:57:54 PM <INFO> End of task Generate AI prediction data\"\n",
            "  ]\n",
            "}\n",
            "\n",
            "\n",
            "end task details\n"
          ]
        },
        {
          "output_type": "execute_result",
          "data": {
            "text/plain": [
              "'{\"status\":\"Complete\",\"subTasks\":[]}'"
            ],
            "application/vnd.google.colaboratory.intrinsic+json": {
              "type": "string"
            }
          },
          "metadata": {},
          "execution_count": 28
        }
      ]
    },
    {
      "cell_type": "markdown",
      "source": [
        "## <font color='yellow'>Step 3: Get the predicted payment date </font>"
      ],
      "metadata": {
        "id": "zlZNa364A-Ft"
      }
    },
    {
      "cell_type": "code",
      "source": [
        "#@title <font color='lime'>📊 Fetch Prediction Results</font>\n",
        "\n",
        "from time import sleep\n",
        "from dateutil import parser\n",
        "import json\n",
        "\n",
        "# Get document info (single document)\n",
        "doc_id = created_document[\"document_id\"]\n",
        "data = created_document[\"data\"]\n",
        "\n",
        "# Poll for predicted payment date\n",
        "predicted = None\n",
        "\n",
        "for attempt in range(30):\n",
        "    try:\n",
        "        # Use sample_requests to get document\n",
        "        doc_response = sample_requests.get_results(\n",
        "            token,\n",
        "            f'/workcap/v2/documents?filter=uuid=={doc_id}'\n",
        "        )\n",
        "\n",
        "        if doc_response:\n",
        "            try:\n",
        "                parsed_doc = json.loads(doc_response)\n",
        "                api_results = parsed_doc.get(\"results\", [])\n",
        "\n",
        "                if api_results and len(api_results) > 0:\n",
        "                    prediction_data = api_results[0].get(\"prediction\")\n",
        "\n",
        "                    if prediction_data and isinstance(prediction_data, dict):\n",
        "                        predicted = prediction_data.get(\"paymentDate\")\n",
        "\n",
        "                        if predicted:\n",
        "                            break\n",
        "\n",
        "            except json.JSONDecodeError:\n",
        "                print(f\"   Failed to parse JSON response\")\n",
        "\n",
        "        print(f\"   No prediction yet, attempt {attempt + 1}/30\")\n",
        "        sleep(2)\n",
        "\n",
        "    except Exception as e:\n",
        "        print(f\"   ⚠️  Error fetching prediction (attempt {attempt+1}): {e}\")\n",
        "        sleep(2)\n",
        "\n",
        "status = \"✅ Predicted\" if predicted else \"❌ Timeout\"\n",
        "print(f\"\\n{status} payment date = {predicted}\")\n",
        "\n",
        "# Create single result\n",
        "result = {\n",
        "    \"DocumentId\": doc_id,\n",
        "    \"Reference\": data[\"Reference\"],\n",
        "    \"Buyer\": data[\"Buyer\"],\n",
        "    \"Supplier\": data[\"Supplier\"],\n",
        "    \"Amount\": data[\"Amount\"],\n",
        "    \"Currency\": data[\"Currency\"],\n",
        "    \"Due Date\": parse_eu_date(data[\"Due Date\"]).strftime(\"%d/%m/%Y\"),\n",
        "    \"Predicted Payment Date\": parser.parse(predicted).strftime(\"%d/%m/%Y\") if predicted else None,\n",
        "}\n",
        "\n",
        "# ────────────────────────────────────────────────────────────────────────────\n",
        "# Display results\n",
        "# ────────────────────────────────────────────────────────────────────────────\n",
        "\n",
        "res_df = pd.DataFrame([result])\n",
        "\n",
        "styled_df = res_df.style.set_properties(**{\n",
        "    'text-align': 'center'\n",
        "}).set_properties(\n",
        "    subset=['Predicted Payment Date'],\n",
        "    **{\n",
        "        'background-color': 'lightgreen',\n",
        "        'color': 'black',\n",
        "        'text-align': 'center',\n",
        "        'font-weight': 'bold'\n",
        "    }\n",
        ").set_table_styles([\n",
        "    {'selector': 'th', 'props': [('text-align', 'center')]}\n",
        "])\n",
        "\n",
        "display(styled_df)\n",
        "\n",
        "# Display summary\n",
        "if predicted:\n",
        "    due_date_obj = parse_eu_date(data[\"Due Date\"])\n",
        "    predicted_date_obj = parser.parse(predicted)\n",
        "    difference = (predicted_date_obj - due_date_obj).days\n",
        "\n",
        "else:\n",
        "    print(f\"\\n❌ Summary: No prediction available for this document\")"
      ],
      "metadata": {
        "colab": {
          "base_uri": "https://localhost:8080/",
          "height": 116
        },
        "id": "qT8ixSl8QZzO",
        "outputId": "d1e4b559-86c4-4dbc-c09c-9a51cd9b111f",
        "cellView": "form"
      },
      "execution_count": 29,
      "outputs": [
        {
          "output_type": "stream",
          "name": "stdout",
          "text": [
            "\n",
            "✅ Predicted payment date = 2025-07-22\n"
          ]
        },
        {
          "output_type": "display_data",
          "data": {
            "text/plain": [
              "<pandas.io.formats.style.Styler at 0x783e364f4bd0>"
            ],
            "text/html": [
              "<style type=\"text/css\">\n",
              "#T_8fcdc th {\n",
              "  text-align: center;\n",
              "}\n",
              "#T_8fcdc_row0_col0, #T_8fcdc_row0_col1, #T_8fcdc_row0_col2, #T_8fcdc_row0_col3, #T_8fcdc_row0_col4, #T_8fcdc_row0_col5, #T_8fcdc_row0_col6 {\n",
              "  text-align: center;\n",
              "}\n",
              "#T_8fcdc_row0_col7 {\n",
              "  text-align: center;\n",
              "  background-color: lightgreen;\n",
              "  color: black;\n",
              "  text-align: center;\n",
              "  font-weight: bold;\n",
              "}\n",
              "</style>\n",
              "<table id=\"T_8fcdc\" class=\"dataframe\">\n",
              "  <thead>\n",
              "    <tr>\n",
              "      <th class=\"blank level0\" >&nbsp;</th>\n",
              "      <th id=\"T_8fcdc_level0_col0\" class=\"col_heading level0 col0\" >DocumentId</th>\n",
              "      <th id=\"T_8fcdc_level0_col1\" class=\"col_heading level0 col1\" >Reference</th>\n",
              "      <th id=\"T_8fcdc_level0_col2\" class=\"col_heading level0 col2\" >Buyer</th>\n",
              "      <th id=\"T_8fcdc_level0_col3\" class=\"col_heading level0 col3\" >Supplier</th>\n",
              "      <th id=\"T_8fcdc_level0_col4\" class=\"col_heading level0 col4\" >Amount</th>\n",
              "      <th id=\"T_8fcdc_level0_col5\" class=\"col_heading level0 col5\" >Currency</th>\n",
              "      <th id=\"T_8fcdc_level0_col6\" class=\"col_heading level0 col6\" >Due Date</th>\n",
              "      <th id=\"T_8fcdc_level0_col7\" class=\"col_heading level0 col7\" >Predicted Payment Date</th>\n",
              "    </tr>\n",
              "  </thead>\n",
              "  <tbody>\n",
              "    <tr>\n",
              "      <th id=\"T_8fcdc_level0_row0\" class=\"row_heading level0 row0\" >0</th>\n",
              "      <td id=\"T_8fcdc_row0_col0\" class=\"data row0 col0\" >e0a54173-f0bc-4a4b-848a-24905439ec0f</td>\n",
              "      <td id=\"T_8fcdc_row0_col1\" class=\"data row0 col1\" >INVOICE_1</td>\n",
              "      <td id=\"T_8fcdc_row0_col2\" class=\"data row0 col2\" >COMPANY01</td>\n",
              "      <td id=\"T_8fcdc_row0_col3\" class=\"data row0 col3\" >THIRD-PARTY2</td>\n",
              "      <td id=\"T_8fcdc_row0_col4\" class=\"data row0 col4\" >17554</td>\n",
              "      <td id=\"T_8fcdc_row0_col5\" class=\"data row0 col5\" >EUR</td>\n",
              "      <td id=\"T_8fcdc_row0_col6\" class=\"data row0 col6\" >25/07/2025</td>\n",
              "      <td id=\"T_8fcdc_row0_col7\" class=\"data row0 col7\" >22/07/2025</td>\n",
              "    </tr>\n",
              "  </tbody>\n",
              "</table>\n"
            ]
          },
          "metadata": {}
        }
      ]
    }
  ]
}