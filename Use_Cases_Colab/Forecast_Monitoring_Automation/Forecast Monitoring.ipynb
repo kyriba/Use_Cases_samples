{
  "cells": [
    {
      "cell_type": "markdown",
      "source": [
        "#<font color=\"yellow\">This sample shows how a forecast can be uploaded to Kyriba and reconciled against a bank statement </font>\n",
        "In the sample, one should fill a form to create a forecast in Kyriba. Based on the input information, a bank statement file is generated in CAMT053 format and then uploaded into Kyriba. Once the bank statement is integrated, Kyriba reconciles the forecast with the transactions in the bank statement, so that the status of the forecast is changed to \"Actual\"."
      ],
      "metadata": {
        "id": "RZPcQh6pA4HX"
      }
    },
    {
      "cell_type": "markdown",
      "source": [
        "## <font color='yellow'>Code for token generation and API management</font>"
      ],
      "metadata": {
        "id": "kN3l8vORQLrC"
      }
    },
    {
      "cell_type": "code",
      "execution_count": null,
      "metadata": {
        "id": "Lbx-HCEw0IKo",
        "cellView": "form"
      },
      "outputs": [],
      "source": [
        "#@title Select **servicePack** the Sample should run\n",
        "from subprocess import getstatusoutput\n",
        "servicePack = \"DEMO\" \n",
        "\n",
        "if servicePack == 'DEMO':\n",
        "  branch = 'main'\n",
        "else:\n",
        "  branch = servicePack\n",
        "print(branch)\n",
        "rm = getstatusoutput(\"rm Colab_shared_code_for_API_usage -rf \") \n",
        "clone = getstatusoutput(\"git clone -l -s --branch \" +  branch + \" https://github.com/kyriba/Colab_shared_code_for_API_usage.git\") \n",
        "import importlib\n",
        "enableFormatterDF = True #@param {type:\"boolean\"}\n",
        "from google.colab import data_table\n",
        "if enableFormatterDF is True:\n",
        "  data_table.enable_dataframe_formatter()\n",
        "else:\n",
        "  data_table.disable_dataframe_formatter()\n",
        "try:  \n",
        "  importlib.reload(sample_requests)\n",
        "except:\n",
        "  print()\n",
        "from Colab_shared_code_for_API_usage import sample_requests"
      ]
    },
    {
      "cell_type": "code",
      "execution_count": null,
      "metadata": {
        "id": "U2Eu48s1RGeY"
      },
      "outputs": [],
      "source": [
        "#@title Import custom modules\n",
        "import json as js\n",
        "import base64\n",
        "import time\n",
        "from datetime import datetime, date"
      ]
    },
    {
      "cell_type": "code",
      "execution_count": null,
      "metadata": {
        "id": "f0259b5a",
        "scrolled": false
      },
      "outputs": [],
      "source": [
        "#@title Connect and get token { display-mode: \"form\" }\n",
        "token = sample_requests.login()\n"
      ]
    },
    {
      "cell_type": "markdown",
      "source": [
        "## <font color='yellow'>Import Forecast</font>"
      ],
      "metadata": {
        "id": "ZpudeONHRHuj"
      }
    },
    {
      "cell_type": "code",
      "source": [
        "#@title <font color='lime'> Create a forecast</font>\n",
        "#@markdown Provide values for parameters below:\n",
        "account = 'ST_ACC01' #@param {type:\"string\"}\n",
        "flowCode = '+WIRE' #@param {allow-input: true} {type: \"string\"}\n",
        "budgetCode = '+WIRE' #@param {type:\"string\"} \n",
        "status = 'CONFIRMED' #@param [\"ESTIMATED\", \"CONFIRMED\"] {type:\"string\"}\n",
        "transactionDate = '2022-11-29' #@param {allow-input: true} {type:\"date\"} \n",
        "valueDate = '2022-11-29' #@param {allow-input: true} {type:\"date\"} \n",
        "accountingDate = '2022-11-29' #@param {allow-input: true} {type:\"date\"} \n",
        "currency = 'EUR' #@param {allow-input: true} {type:\"string\"} \n",
        "amount = 17 #@param {allow-input: true} {type:\"number\"} \n",
        "description = 'Inbound flow forecast' #@param {type:\"string\"} \n",
        "reference = 'REF00178' #@param {allow-input: true} {type:\"string\"} \n",
        "\n",
        "\n",
        "checker = 'false'\n",
        "\n",
        "payload = sample_requests.js.dumps({\n",
        "  \"account\": {\n",
        "    \"code\": account\n",
        "  },\n",
        "  \"flowCode\": {\n",
        "    \"code\": flowCode\n",
        "  },\n",
        "  \"budgetCode\": {\n",
        "    \"code\": budgetCode\n",
        "  },\n",
        "  \"status\": status,\n",
        "  \"date\": {\n",
        "    \"transactionDate\": transactionDate,\n",
        "    \"valueDate\": valueDate,\n",
        "    \"accountingDate\": accountingDate\n",
        "  },\n",
        "  \"flowAmount\": {\n",
        "    \"currency\": {\n",
        "      \"code\": currency\n",
        "    },\n",
        "    \"amount\": amount\n",
        "  },\n",
        "  \"accountAmount\": {\n",
        "    \"accountAmount\": amount,\n",
        "  },\n",
        "  \"description\": description,\n",
        "  \"reference\": reference,\n",
        "})\n",
        "\n",
        "\n",
        "#print(payload)\n",
        "\n",
        "cfg = sample_requests.pd.read_csv(\"/content/config.csv\")\n",
        "client_id = cfg['client_id'].values[0]\n",
        "test = client_id.split('@')\n",
        "client_id = test[0]\n",
        "client_id\n",
        "\n",
        "# create forecast in json \n",
        "try: \n",
        "  res2 = sample_requests.post_results(token, '/v1/cash-flows', payload, {}, {'Content-Type': 'application/json'})\n",
        "  print('\\nForecast uuid: ' + res2['uuid'])\n",
        "  try:\n",
        "    if res2['uuid']:\n",
        "      checker = 'true'\n",
        "      print('\\nForecast with the reference \"' + reference + '\" has been succesfully created in Kyriba.')\n",
        "      print()\n",
        "      # print(res2)\n",
        "  except:\n",
        "    print()\n",
        "    # print('Error')\n",
        "    print(\"\\nForecast could not be created in Kyriba.\")\n",
        "except Exception2 as e2:\n",
        "  print(\"Forecast could not be created in Kyriba.\")"
      ],
      "metadata": {
        "id": "EVtJy-RAVeK5",
        "cellView": "form"
      },
      "execution_count": null,
      "outputs": []
    },
    {
      "cell_type": "markdown",
      "source": [
        "## <font color='yellow'>Import Bank statement</font>"
      ],
      "metadata": {
        "id": "3RyAk6RKU8HI"
      }
    },
    {
      "cell_type": "code",
      "execution_count": null,
      "metadata": {
        "id": "C0YV0U07yMtT",
        "cellView": "form"
      },
      "outputs": [],
      "source": [
        "#@title CAMT53 template\n",
        "\n",
        "camt53 = '''<?xml version=\"1.0\" encoding=\"UTF-8\"?>\n",
        "<Document xsi:schemaLocation=\"urn:iso:std:iso:20022:tech:xsd:camt.053.001.04 camt.053.001.04.xsd\"\n",
        "\txmlns=\"urn:iso:std:iso:20022:tech:xsd:camt.053.001.04\"\n",
        "\txmlns:xsi=\"http://www.w3.org/2001/XMLSchema-instance\">\n",
        "\t<BkToCstmrStmt>\n",
        "\t\t<GrpHdr>\n",
        "\t\t\t<MsgId>602577997205112</MsgId>\n",
        "\t\t\t<CreDtTm>2022-03-18T21:15:02</CreDtTm>\n",
        "\t\t\t<MsgRcpt>\n",
        "\t\t\t\t<Id>\n",
        "\t\t\t\t\t<OrgId>\n",
        "\t\t\t\t\t\t<AnyBIC>BCVLFR2LXXX</AnyBIC>\n",
        "\t\t\t\t\t</OrgId>\n",
        "\t\t\t\t</Id>\n",
        "\t\t\t</MsgRcpt>\n",
        "\t\t\t<MsgPgntn>\n",
        "\t\t\t\t<PgNb>1</PgNb>\n",
        "\t\t\t\t<LastPgInd>true</LastPgInd>\n",
        "\t\t\t</MsgPgntn>\n",
        "\t\t</GrpHdr>\n",
        "\t\t<Stmt>\n",
        "\t\t\t<Id>402077308205112</Id>\n",
        "\t\t\t<ElctrncSeqNb>7</ElctrncSeqNb>\n",
        "\t\t\t<CreDtTm>2022-03-18T21:15:02</CreDtTm>\n",
        "\t\t\t<FrToDt>\n",
        "\t\t\t\t<FrDtTm>2022-03-18T00:00:00</FrDtTm>\n",
        "\t\t\t\t<ToDtTm>2022-03-18T00:00:00</ToDtTm>\n",
        "\t\t\t</FrToDt>\n",
        "\t\t\t<Acct>\n",
        "\t\t\t\t<Id>\n",
        "\t\t\t\t\t<IBAN>FR3409876098551233456781766</IBAN>\n",
        "\t\t\t\t</Id>\n",
        "\t\t\t\t<Ccy>EUR</Ccy>\n",
        "\t\t\t\t<Ownr>\n",
        "\t\t\t\t\t<Nm>Kyriba</Nm>\n",
        "\t\t\t\t</Ownr>\n",
        "\t\t\t</Acct>\n",
        "\t\t\t<Bal>\n",
        "\t\t\t\t<Tp>\n",
        "\t\t\t\t\t<CdOrPrtry>\n",
        "\t\t\t\t\t\t<Cd>OPBD</Cd>\n",
        "\t\t\t\t\t</CdOrPrtry>\n",
        "\t\t\t\t</Tp>\n",
        "\t\t\t\t<Amt Ccy=\"EUR\">2695993.91</Amt>\n",
        "\t\t\t\t<CdtDbtInd>CRDT</CdtDbtInd>\n",
        "\t\t\t\t<Dt>\n",
        "\t\t\t\t\t<Dt>2022-03-18</Dt>\n",
        "\t\t\t\t</Dt>\n",
        "\t\t\t</Bal>\n",
        "\t\t\t<Bal>\n",
        "\t\t\t\t<Tp>\n",
        "\t\t\t\t\t<CdOrPrtry>\n",
        "\t\t\t\t\t\t<Cd>CLBD</Cd>\n",
        "\t\t\t\t\t</CdOrPrtry>\n",
        "\t\t\t\t</Tp>\n",
        "\t\t\t\t<Amt Ccy=\"EUR\">1247358.85</Amt>\n",
        "\t\t\t\t<CdtDbtInd>CRDT</CdtDbtInd>\n",
        "\t\t\t\t<Dt>\n",
        "\t\t\t\t\t<Dt>2022-03-18</Dt>\n",
        "\t\t\t\t</Dt>\n",
        "\t\t\t</Bal>\n",
        "\t\t\t<Ntry>\n",
        "\t\t\t\t<Amt Ccy=\"CHF\">100.00</Amt>\n",
        "\t\t\t\t<CdtDbtInd>CRDT</CdtDbtInd>\n",
        "\t\t\t\t<Sts>BOOK</Sts>\n",
        "\t\t\t\t<BookgDt>\n",
        "\t\t\t\t\t<Dt>2022-10-17</Dt>\n",
        "\t\t\t\t</BookgDt>\n",
        "\t\t\t\t<ValDt>\n",
        "\t\t\t\t\t<Dt>2022-10-17</Dt>\n",
        "\t\t\t\t</ValDt>\n",
        "\t\t\t\t<AcctSvcrRef>793616889522077/2</AcctSvcrRef>\n",
        "\t\t\t\t<BkTxCd>\n",
        "\t\t\t\t\t<Domn>\n",
        "\t\t\t\t\t\t<Cd>PMNT</Cd>\n",
        "\t\t\t\t\t\t<Fmly>\n",
        "\t\t\t\t\t\t\t<Cd>APII</Cd>\n",
        "\t\t\t\t\t\t\t<SubFmlyCd>TEST</SubFmlyCd>\n",
        "\t\t\t\t\t\t</Fmly>\n",
        "\t\t\t\t\t</Domn>\n",
        "\t\t\t\t</BkTxCd>\n",
        "\t\t\t\t<NtryDtls>\n",
        "\t\t\t\t\t<TxDtls>\n",
        "\t\t\t\t\t\t<Refs>\n",
        "\t\t\t\t\t\t\t<MsgId>API CF Rec</MsgId>\n",
        "\t\t\t\t\t\t\t<InstrId>Instruction ID</InstrId>\n",
        "\t\t\t\t\t\t\t<EndToEndId>Reference</EndToEndId>\n",
        "\t\t\t\t\t\t</Refs>\n",
        "\t\t\t\t\t\t<Amt Ccy=\"EUR\">100.00</Amt>\n",
        "\t\t\t\t\t\t<CdtDbtInd>CRDT</CdtDbtInd>\n",
        "\t\t\t\t\t\t<RltdPties>\n",
        "\t\t\t\t\t\t\t<Dbtr>\n",
        "\t\t\t\t\t\t\t\t<Nm>Kyriba</Nm>\n",
        "\t\t\t\t\t\t\t\t<PstlAdr>\n",
        "\t\t\t\t\t\t\t\t\t<AdrLine>Kyriba</AdrLine>\n",
        "\t\t\t\t\t\t\t\t\t<AdrLine>L&apos;ANCIENNE-ROUTE</AdrLine>\n",
        "\t\t\t\t\t\t\t\t</PstlAdr>\n",
        "\t\t\t\t\t\t\t</Dbtr>\n",
        "\t\t\t\t\t\t</RltdPties>\n",
        "\t\t\t\t\t\t<RmtInf>\n",
        "\t\t\t\t\t\t\t<Ustrd>CASH COLLATERAL</Ustrd>\n",
        "\t\t\t\t\t\t</RmtInf>\n",
        "\t\t\t\t\t\t<RltdDts>\n",
        "\t\t\t\t\t\t\t<IntrBkSttlmDt>2022-10-17</IntrBkSttlmDt>\n",
        "\t\t\t\t\t\t</RltdDts>\n",
        "\t\t\t\t\t</TxDtls>\n",
        "\t\t\t\t</NtryDtls>\n",
        "\t\t\t\t<AddtlNtryInf>VIRT CPTE</AddtlNtryInf>\n",
        "\t\t\t</Ntry>\n",
        "\t\t</Stmt>\n",
        "\t</BkToCstmrStmt>\n",
        "</Document>\n",
        "'''\n"
      ]
    },
    {
      "cell_type": "code",
      "execution_count": null,
      "metadata": {
        "id": "cDlnXK1-5o-C"
      },
      "outputs": [],
      "source": [
        "#@title Generate CAMT53 based on entered forecast data\n",
        "import re\n",
        "import xml.etree.ElementTree as ET\n",
        "\n",
        "root = ET.fromstring(re.sub('<Document[^>]+', '<Document', camt53, count=1))\n",
        "\n",
        "get_request = '/v1/accounts/code=' + account\n",
        "get_response = sample_requests.get_results(token, get_request)\n",
        "statement_id = js.loads(get_response)['bankAccountID']['statementIdentifier']\n",
        "\n",
        "if statement_id is None:\n",
        "\tprint('\\033[91;3mStatement identifier is missing for the account ' + account + '.')\n",
        "\tprint('Please add statement identifier and try again.\\x1b[0m\\n')\n",
        "\n",
        "for elem in root.iter('Stmt'):\n",
        "\telem.find('Acct/Id/IBAN').text = statement_id\n",
        "\t\n",
        "for elem in root.iter('Ntry'):\n",
        "\telem.find('Amt').text = str(amount)\n",
        "\telem.find('Amt').set('Ccy', currency) \n",
        "\telem.find('BookgDt/Dt').text = transactionDate\n",
        "\telem.find('ValDt/Dt').text = valueDate\n",
        "\telem.find('NtryDtls/TxDtls/Refs/EndToEndId').text = reference\n",
        "\telem.find('NtryDtls/TxDtls/Amt').text = str(amount)\n",
        "\telem.find('NtryDtls/TxDtls/Amt').set('Ccy', currency)\n",
        "\n",
        "camt53 = ET.tostring(root)\n",
        "print(camt53)\n",
        "\n",
        "                            "
      ]
    },
    {
      "cell_type": "code",
      "execution_count": null,
      "metadata": {
        "id": "PaEn0Eq12M0k"
      },
      "outputs": [],
      "source": [
        "#@title Import CAMT53\n",
        "\n",
        "now = datetime.now().strftime(\"%d%m%Y_%H%M%S\")\n",
        "res = sample_requests.import_data(token, camt53, 'API_CAMT53_' + now + '.xml', 'IMP_BK_CAMT53', True, True)\n"
      ]
    },
    {
      "cell_type": "markdown",
      "source": [
        "## <font color='yellow'>Monitor cash flow status</font>"
      ],
      "metadata": {
        "id": "uUq7TWFQSa8V"
      }
    },
    {
      "cell_type": "code",
      "execution_count": null,
      "metadata": {
        "id": "_x_n-1x5wqn-"
      },
      "outputs": [],
      "source": [
        "#@title Get status of CAMT53 integration and the cash flow\n",
        "from google.colab import output\n",
        "import sys\n",
        "\n",
        "\n",
        "def countdown(t):\n",
        "    while t:\n",
        "        mins, secs = divmod(t, 60)\n",
        "        timer = 'The next status check is in {:02d}:{:02d}'.format(mins, secs)\n",
        "        print('\\r' + timer, end='')\n",
        "        time.sleep(1)\n",
        "        t -= 1\n",
        "\n",
        "\n",
        "integ_status = {'Not pushed' : '\\033[95mNot pushed \\x1b[0m', \n",
        "            'Pushed' : '\\033[93mPushed \\x1b[0m',\n",
        "            'Integrated' : '\\033[92mIntegrated \\x1b[0m', \n",
        "            'Rejected' : '\\033[91mRejected \\x1b[0m'}\n",
        "\n",
        "next_act = {'Not pushed' : 'Pushed', \n",
        "            'Pushed' : 'Integrated or Rejected',\n",
        "            'Integrated' : 'None', \n",
        "            'Rejected' : 'None'}\n",
        "\n",
        "get_req = '/v1/cash-flows/' + res2['uuid'] + '/detail'\n",
        "\n",
        "#Checking cash flow status every 30 seconds unless it is \"ACTUAL\"\n",
        "try:\n",
        "  while status != 'ACTUAL':\n",
        "\n",
        "    #Monitoring of bank statement integration\n",
        "    print(\"Status of the report:\")\n",
        "    res = sample_requests.run_report(token,\"BK_CONNECT_API\")\n",
        "    buffer = sample_requests.StringIO(res[3:])\n",
        "    df = sample_requests.pd.read_csv(buffer)\n",
        "    rowIndex = df.index[df['Account'] == account].tolist()[0]\n",
        "\n",
        "    print('Bank statement delivery status: ' + integ_status[df.at[rowIndex,'Statement delivery']])\n",
        "    print('Bank statement collection date and time: ' + str(df.at[rowIndex,'Connection time']))\n",
        "    print('Next bank statement delivery status: ' + next_act[df.at[rowIndex,'Statement delivery']])\n",
        "      \n",
        "    #Monitoring of cash flow status\n",
        "    get_response = sample_requests.get_results(token, get_req)\n",
        "    json_object= js.loads(get_response)\n",
        "    status = json_object[\"status\"]\n",
        "    status_colored = '\\033[92mACTUAL\\x1b[0m' if status == 'ACTUAL' else '\\033[93m' + status + '\\x1b[0m'\n",
        "    print('\\nCash flow status: ' + status_colored + '\\n')\n",
        "    if status != 'ACTUAL':\n",
        "      print('---------------------\\n')\n",
        "      countdown(int(30))\n",
        "      output.clear()\n",
        "\n",
        "  print('Forecast with reference ' + reference + ' has been reconciled.')\n",
        "\n",
        "except IndexError:\n",
        "    print('\\033[91;3mAccount code has not been found in the report.\\nPlease check that the statement identifier is in place.\\x1b[0m')\n"
      ]
    }
  ],
  "metadata": {
    "colab": {
      "collapsed_sections": [
        "kN3l8vORQLrC"
      ],
      "provenance": []
    },
    "kernelspec": {
      "display_name": "Python 3",
      "name": "python3"
    },
    "language_info": {
      "name": "python"
    }
  },
  "nbformat": 4,
  "nbformat_minor": 0
}