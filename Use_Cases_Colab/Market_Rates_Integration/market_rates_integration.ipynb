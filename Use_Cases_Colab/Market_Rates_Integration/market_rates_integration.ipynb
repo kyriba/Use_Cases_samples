{
  "cells": [
    {
      "cell_type": "markdown",
      "id": "5pFc2ci9uGZU",
      "metadata": {
        "id": "5pFc2ci9uGZU"
      },
      "source": [
        "# <font color=yellow> Market Rates Integration </font>\n",
        "This example demonstrates a streamlined process for integrating market rates into Kyriba, focusing on both interest and foreign exchange (FX) rates essential for treasury operations. The use case consists of two separate steps:\n",
        "\n",
        "1. **Retrieve and Import SHIBOR Interest Rates**\n",
        "\n",
        "  * Fetch SHIBOR (Shanghai Interbank Offered Rate) interest rate data for a specified date range from https://shibor.org.\n",
        "  * Process and transform the data to a CSV to match Kyriba's import format.\n",
        "  * Import the CSV into Kyriba.\n",
        "\n",
        "2. **Set and Import FX Rate**\n",
        "\n",
        "  * Manually input the quote currency (the base currency is EUR - system reference currency of the API Playground), spot date, bid and ask rates.\n",
        "  * Transform the input data into a structured format suitable for Kyriba.\n",
        "  * Import the data into Kyriba."
      ]
    },
    {
      "cell_type": "markdown",
      "id": "ewsu5xemUDsJ",
      "metadata": {
        "id": "ewsu5xemUDsJ"
      },
      "source": [
        "## <font color='yellow'>Step 0.1: Code for token generation and API management</font>"
      ]
    },
    {
      "cell_type": "code",
      "execution_count": null,
      "id": "CE2yUrjbYHzl",
      "metadata": {
        "cellView": "form",
        "id": "CE2yUrjbYHzl"
      },
      "outputs": [],
      "source": [
        "#@title Select **servicePack** the Sample should run\n",
        "from subprocess import getstatusoutput\n",
        "servicePack = \"DEMO\"\n",
        "\n",
        "if servicePack == 'DEMO':\n",
        "  branch = 'main'\n",
        "else:\n",
        "  branch = servicePack\n",
        "print(branch)\n",
        "rm = getstatusoutput(\"rm Colab_shared_code_for_API_usage -rf \")\n",
        "clone = getstatusoutput(\"git clone -l -s --branch \" +  branch + \" https://github.com/kyriba/Colab_shared_code_for_API_usage.git\")\n",
        "import importlib\n",
        "try:\n",
        "  importlib.reload(sample_requests)\n",
        "except:\n",
        "  print()\n",
        "from Colab_shared_code_for_API_usage import sample_requests"
      ]
    },
    {
      "cell_type": "code",
      "execution_count": null,
      "id": "31f2f8e5",
      "metadata": {
        "cellView": "form",
        "id": "31f2f8e5"
      },
      "outputs": [],
      "source": [
        "#@title Import custom modules\n",
        "\n",
        "import time\n",
        "import matplotlib\n",
        "from pprint import pprint\n",
        "import matplotlib.pyplot as plot\n",
        "from datetime import datetime,date\n",
        "import random\n"
      ]
    },
    {
      "cell_type": "markdown",
      "id": "144f5fb2",
      "metadata": {
        "id": "144f5fb2"
      },
      "source": [
        "## <font color='yellow'>Step 0.2: Connect and  retrieve token</font>"
      ]
    },
    {
      "cell_type": "code",
      "execution_count": null,
      "id": "J9VDqGzzGTy-",
      "metadata": {
        "cellView": "form",
        "id": "J9VDqGzzGTy-"
      },
      "outputs": [],
      "source": [
        "#@title <font color='lime'>Connect</font>\n",
        "print('token:')\n",
        "token = sample_requests.login()"
      ]
    },
    {
      "cell_type": "markdown",
      "id": "578a8fd8",
      "metadata": {
        "id": "578a8fd8"
      },
      "source": [
        "## <font color='yellow'>Step 1: Retrieve and Import SHIBOR Interest Rates</font>\n",
        "Retrieve SHIBOR interest rates from https://shibor.org, transform the data into the format expected by Kyriba, and import it."
      ]
    },
    {
      "cell_type": "code",
      "execution_count": null,
      "id": "6fELU52AX25K",
      "metadata": {
        "cellView": "form",
        "id": "6fELU52AX25K"
      },
      "outputs": [],
      "source": [
        "#@title <font color='lime'>Step 1.1: Get SHIBOR Interest Rates by period</font>\n",
        "start_date = \"2024-02-01\" #@param {type:\"date\"}\n",
        "end_date = \"2024-02-02\" #@param {type:\"date\"}\n",
        "show_rates = True #@param {type:\"boolean\"}\n",
        "\n",
        "import requests\n",
        "import pandas as pd\n",
        "from datetime import datetime\n",
        "\n",
        "csv_filename = f\"shibor_rates_{start_date}_to_{end_date}.csv\"\n",
        "def fetch_and_process_shibor_data(start_date, end_date):\n",
        "    # Construct the URL with query parameters for the GET request\n",
        "    url = f\"https://www.shibor.org/ags/ms/cm-u-bk-shibor/ShiborHis?lang=en&startDate={start_date}&endDate={end_date}\"\n",
        "\n",
        "    response = requests.get(url)\n",
        "\n",
        "    if response.status_code == 200:\n",
        "        # Parse the JSON response\n",
        "        data = response.json()\n",
        "\n",
        "        # Extract the 'records' part of the data\n",
        "        records = data.get('records', [])\n",
        "\n",
        "        # Process each record to format data as required\n",
        "        processed_records = []\n",
        "        for record in records:\n",
        "            business_date = datetime.strptime(record[\"showDateEN\"], \"%d %b %Y\").strftime(\"%m-%d-%Y\")\n",
        "            for key, value in record.items():\n",
        "                if key not in [\"showDateEN\", \"showDateCN\"]:\n",
        "                    product_code = f\"SHIBOR{key}\"\n",
        "                    rate = value\n",
        "                    processed_records.append({\n",
        "                        \"businessDate\": business_date,\n",
        "                        \"rate\": rate,\n",
        "                        \"productCode\": product_code,\n",
        "                        \"transactionTime\": \"\",\n",
        "                        \"productDescription\": \"\",\n",
        "                        \"securityId\": \"\"\n",
        "                    })\n",
        "\n",
        "        # Convert processed records into a DataFrame\n",
        "        global df\n",
        "        df = pd.DataFrame(processed_records)\n",
        "\n",
        "        # Reorder the DataFrame here if needed\n",
        "        df = df[[\"businessDate\", \"transactionTime\", \"rate\", \"productCode\", \"securityId\", \"productDescription\"]]\n",
        "\n",
        "        # Save the DataFrame to a CSV file\n",
        "        csv_filename = f\"shibor_rates_{start_date}_to_{end_date}.csv\"\n",
        "        df.to_csv(csv_filename, index=False)\n",
        "\n",
        "        print(f\"Data successfully processed and saved to {csv_filename}\")\n",
        "    else:\n",
        "        print(f\"Failed to fetch data. Status code: {response.status_code}\")\n",
        "\n",
        "if end_date >= start_date:\n",
        "    fetch_and_process_shibor_data(start_date, end_date)\n",
        "\n",
        "    if show_rates:\n",
        "        print()\n",
        "        print(df.to_markdown())\n",
        "else:\n",
        "    print('\\033[31mStart date cannot be later than the End date.')\n",
        "    print('Select the correct dates and try again.')\n"
      ]
    },
    {
      "cell_type": "code",
      "source": [
        "#@title <font color='lime'>Step 1.2: Import Interest Rates to Kyriba</font>\n",
        "usePayload = True #@param {type:\"boolean\"}\n",
        "traces = True #@param {type:\"boolean\"}\n",
        "\n",
        "with open(csv_filename, 'rb') as csv_file:\n",
        "    binary_file_data = csv_file.read()\n",
        "\n",
        "\n",
        "result = sample_requests.import_data(token, binary_file_data, csv_filename, 'CME_MD', usePayload, traces)\n",
        "\n",
        "print(result)\n",
        "print()\n",
        "print(f\"Data {csv_filename} uploaded into Kyriba.\")"
      ],
      "metadata": {
        "cellView": "form",
        "id": "DOFccTXGbDnP"
      },
      "id": "DOFccTXGbDnP",
      "execution_count": null,
      "outputs": []
    },
    {
      "cell_type": "markdown",
      "metadata": {
        "id": "7Zzc89Z-aTLB"
      },
      "source": [
        "## <font color='yellow'>Step 2: Set and Import FX Rate</font>\n",
        "Import the FX rate set in the form."
      ],
      "id": "7Zzc89Z-aTLB"
    },
    {
      "cell_type": "code",
      "execution_count": null,
      "metadata": {
        "cellView": "form",
        "id": "UmnbKl9BaTLC"
      },
      "outputs": [],
      "source": [
        "#@title <font color='lime'>Step 2.1: Enter FX Rate</font>\n",
        "currency = \"CAD\" #@param [\"USD\", \"GBP\", \"CAD\"]\n",
        "spotDate = \"2021-10-21\" #@param {type:\"date\"}\n",
        "bid =  1.13#@param {type:\"number\"}\n",
        "ask = 1.14 #@param {type:\"number\"}\n",
        "usePayload = True #@param {type:\"boolean\"}\n",
        "traces = True #@param {type:\"boolean\"}\n",
        "\n",
        "transformedDate =   spotDate[5:7] + spotDate[8:10]  + spotDate [0:4]\n",
        "\n",
        "data = (\"FX\" + transformedDate + \"MANUAL    \"+currency+\"                 \"+str(bid)+\"              \"+str(ask)+\"\\n\")\n",
        "\n",
        "today = date.today()\n",
        "now = datetime.now()\n",
        "dt_string = str(today) + 'T' + now.strftime(\"%H:%M\")\n",
        "filename = dt_string + \"-\" + currency + \".csv\"\n",
        "if traces:\n",
        "  print('Data: ' + data)\n",
        "  if usePayload:\n",
        "    print('Data will be sent by payload.\\n')\n",
        "  else:\n",
        "    print('Data will be sent by file:' + filename + '.\\n')\n",
        "\n",
        "res = sample_requests.import_data(token, data, filename,'API_IMP_MD', usePayload, traces)"
      ],
      "id": "UmnbKl9BaTLC"
    }
  ],
  "metadata": {
    "colab": {
      "collapsed_sections": [
        "ewsu5xemUDsJ",
        "144f5fb2"
      ],
      "private_outputs": true,
      "provenance": []
    },
    "kernelspec": {
      "display_name": "Python 3",
      "language": "python",
      "name": "python3"
    },
    "language_info": {
      "codemirror_mode": {
        "name": "ipython",
        "version": 3
      },
      "file_extension": ".py",
      "mimetype": "text/x-python",
      "name": "python",
      "nbconvert_exporter": "python",
      "pygments_lexer": "ipython3",
      "version": "3.8.2"
    }
  },
  "nbformat": 4,
  "nbformat_minor": 5
}